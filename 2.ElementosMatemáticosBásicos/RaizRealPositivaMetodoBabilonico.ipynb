{
  "nbformat": 4,
  "nbformat_minor": 0,
  "metadata": {
    "colab": {
      "provenance": [],
      "authorship_tag": "ABX9TyNqsRdyPu1P1BxU+lDW2bSr",
      "include_colab_link": true
    },
    "kernelspec": {
      "name": "python3",
      "display_name": "Python 3"
    },
    "language_info": {
      "name": "python"
    }
  },
  "cells": [
    {
      "cell_type": "markdown",
      "metadata": {
        "id": "view-in-github",
        "colab_type": "text"
      },
      "source": [
        "<a href=\"https://colab.research.google.com/github/RobertoMendezM/Curso_MatematicasBachilleratoConPython/blob/main/2.ElementosMatem%C3%A1ticosB%C3%A1sicos/RaizRealPositivaMetodoBabilonico.ipynb\" target=\"_parent\"><img src=\"https://colab.research.google.com/assets/colab-badge.svg\" alt=\"Open In Colab\"/></a>"
      ]
    },
    {
      "cell_type": "markdown",
      "source": [
        "\n",
        "# Cálculo de Raíces Reales postivas con el método babilónico\n",
        "\n",
        "\\begin{equation}\n",
        "\tx_{n + 1} = \\frac{1}{2}\\left( x_n + \\frac{n}{x_n}\\right)\n",
        "\\end{equation}"
      ],
      "metadata": {
        "id": "N62JS1PpCBgH"
      }
    },
    {
      "cell_type": "code",
      "source": [
        "import numpy as np\n",
        "\n",
        "raiz = float(input(\"Dame el valor del cual quieres la raíz: \"))\n",
        "aprox = float(input(\"Da una aproximación: \"))\n",
        "\n",
        "\n",
        "for x in range(5):\n",
        "    aprox = .5*(aprox + raiz/aprox)\n",
        "\n",
        "print(\"La raíz aproximada de {0} es {1}\"\n",
        "         .format(raiz, aprox))\n",
        "\n",
        "print(\"La raíz de {0} es {1:50.49} \".format(raiz, np.sqrt(raiz)))"
      ],
      "metadata": {
        "colab": {
          "base_uri": "https://localhost:8080/"
        },
        "id": "CC3CGXhtDZ6Y",
        "outputId": "24cb09cd-995b-42d6-e420-ca5c454b85ea"
      },
      "execution_count": 1,
      "outputs": [
        {
          "output_type": "stream",
          "name": "stdout",
          "text": [
            "Dame el valor del cual quieres la raíz: 5\n",
            "Da una paroximación: 2\n",
            "La raíz aproximada de 5.0 es 2.23606797749979\n",
            "La raíz de 5.0 es 2.236067977499789805051477742381393909454345703125 \n"
          ]
        }
      ]
    }
  ]
}