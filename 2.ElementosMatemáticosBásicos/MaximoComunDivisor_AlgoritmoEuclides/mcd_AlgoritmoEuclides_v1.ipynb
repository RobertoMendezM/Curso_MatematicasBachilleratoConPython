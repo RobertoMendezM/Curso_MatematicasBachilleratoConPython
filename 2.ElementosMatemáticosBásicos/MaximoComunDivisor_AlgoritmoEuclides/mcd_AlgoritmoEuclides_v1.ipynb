{
  "nbformat": 4,
  "nbformat_minor": 0,
  "metadata": {
    "colab": {
      "provenance": [],
      "authorship_tag": "ABX9TyNHXon8vMA6VCU/f/8oeryx",
      "include_colab_link": true
    },
    "kernelspec": {
      "name": "python3",
      "display_name": "Python 3"
    },
    "language_info": {
      "name": "python"
    }
  },
  "cells": [
    {
      "cell_type": "markdown",
      "metadata": {
        "id": "view-in-github",
        "colab_type": "text"
      },
      "source": [
        "<a href=\"https://colab.research.google.com/github/RobertoMendezM/Curso_MatematicasBachilleratoConPython/blob/main/2.ElementosMatem%C3%A1ticosB%C3%A1sicos/MaximoComunDivisor_AlgoritmoEuclides/mcd_AlgoritmoEuclides_v1.ipynb\" target=\"_parent\"><img src=\"https://colab.research.google.com/assets/colab-badge.svg\" alt=\"Open In Colab\"/></a>"
      ]
    },
    {
      "cell_type": "markdown",
      "source": [
        "# Máximo Común Divisor / Algoritmo de Euclides\n",
        "\n",
        "## Máximo Común Divisor (a,b)\n",
        "\n",
        "\\begin{align}\n",
        "a &= b*q + r_1  \\hspace{2cm} 0 \\leq r_1 < |b|\\\\  \n",
        "b &= r_1*q_1 + r_2  \\hspace{1.6cm} 0 \\leq r_2 < |r_1|\\\\\n",
        "r_1 &= r_2*q_2 + r_3 \\hspace{1.6cm} 0 \\leq r_3 < |r_2|\\\\\n",
        "r_2 &= r_3*q_3 + r_4 \\\\\n",
        " & \\; \\, \\vdots \\\\\n",
        " r_{n - 1} &= r_{n}q_{n}\n",
        "\\end{align}\n",
        "\n",
        "Así   $\\qquad r_n = (a,b)$"
      ],
      "metadata": {
        "id": "PzP_eTTP2Gq8"
      }
    },
    {
      "cell_type": "markdown",
      "source": [
        "* Entrada de datos de tipo entero  a > b y a,b >0"
      ],
      "metadata": {
        "id": "qF-Hwe-91_kg"
      }
    },
    {
      "cell_type": "code",
      "execution_count": 11,
      "metadata": {
        "colab": {
          "base_uri": "https://localhost:8080/"
        },
        "id": "2NTTe07D1-ev",
        "outputId": "a8ae84f7-1113-4320-9271-4179d25d83f4"
      },
      "outputs": [
        {
          "name": "stdout",
          "output_type": "stream",
          "text": [
            "Dame el primer entero: 5\n",
            "Dame el segundo entero: 5\n"
          ]
        }
      ],
      "source": [
        "a = int(input(\"Dame el primer entero: \"))\n",
        "b = int(input(\"Dame el segundo entero: \"))"
      ]
    },
    {
      "cell_type": "markdown",
      "source": [
        "Obtener el máximo común divisor por el método de Euclides"
      ],
      "metadata": {
        "id": "CDJHjB6V2-4Z"
      }
    },
    {
      "cell_type": "code",
      "source": [
        "\n",
        "q = a//b\n",
        "r = a - b*q\n",
        "if r != 0 :\n",
        "  a = b\n",
        "  b = r\n",
        "  print(a, b)\n",
        "  q = a//b\n",
        "  r = a - b*q\n",
        "  print(q, r)\n",
        "  if r != 0:\n",
        "    a = b\n",
        "    b = r\n",
        "    print(a, b)\n",
        "    q = a//b\n",
        "    r = a - b*q\n",
        "    if r != 0:\n",
        "      a = b\n",
        "      b = r\n",
        "      print(a, b)\n",
        "      q = a//b\n",
        "      r = a - b*q\n",
        "\n",
        "a = int(input(\"Dame el primer entero: \"))\n",
        "b = int(input(\"Dame el segundo entero: \"))print(\"El máximo común divisor es: \", b)"
      ],
      "metadata": {
        "colab": {
          "base_uri": "https://localhost:8080/"
        },
        "id": "_e0tEImr3D-q",
        "outputId": "5a599fa7-1576-487a-e462-ad1fd2fdd56d"
      },
      "execution_count": 10,
      "outputs": [
        {
          "output_type": "stream",
          "name": "stdout",
          "text": [
            "6 3\n",
            "2 0\n",
            "El máximo común divisor es:  3\n"
          ]
        }
      ]
    },
    {
      "cell_type": "code",
      "source": [
        "a = int(input(\"Dame el primer entero: \"))\n",
        "b = int(input(\"Dame el segundo entero: \"))\n",
        "\n",
        "q = a//b\n",
        "r = a - b*q\n",
        "while r != 0 :\n",
        "  a = b\n",
        "  b = r\n",
        "  print(a, b)\n",
        "  q = a//b\n",
        "  r = a - b*q\n",
        "print(\"El máximo común divisor es: \", b)"
      ],
      "metadata": {
        "colab": {
          "base_uri": "https://localhost:8080/"
        },
        "id": "Lo9wsrxD4f5X",
        "outputId": "1e385786-ecb5-453a-c734-5e5e646359ab"
      },
      "execution_count": 13,
      "outputs": [
        {
          "output_type": "stream",
          "name": "stdout",
          "text": [
            "Dame el primer entero: 5\n",
            "Dame el segundo entero: 5\n",
            "El máximo común divisor es:  5\n"
          ]
        }
      ]
    },
    {
      "cell_type": "markdown",
      "source": [
        "ACTIVIDAD: Extienda el codigo anterior para todo par de enteros distintos de cero"
      ],
      "metadata": {
        "id": "UfpRbaQHiQ8U"
      }
    }
  ]
}