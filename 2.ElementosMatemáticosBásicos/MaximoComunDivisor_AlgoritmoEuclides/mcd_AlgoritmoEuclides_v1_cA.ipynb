{
  "nbformat": 4,
  "nbformat_minor": 0,
  "metadata": {
    "colab": {
      "provenance": []
    },
    "kernelspec": {
      "name": "python3",
      "display_name": "Python 3"
    },
    "language_info": {
      "name": "python"
    }
  },
  "cells": [
    {
      "cell_type": "markdown",
      "source": [
        "# Máximo Común Divisor / Algoritmo de Euclides\n",
        "\n",
        "## Algoritmo Máximo Común Divisor (a,b)\n",
        "\n",
        "\\begin{align}\n",
        "a &= b*q + r_1  \\hspace{2cm} 0 \\leq r_1 < |b|\\\\  \n",
        "b &= r_1*q_1 + r_2  \\hspace{1.6cm} 0 \\leq r_2 < |r_1|\\\\\n",
        "r_1 &= r_2*q_2 + r_3 \\hspace{1.6cm} 0 \\leq r_3 < |r_2|\\\\\n",
        "r_2 &= r_3*q_3 + r_4 \\\\\n",
        " & \\; \\, \\vdots \\\\\n",
        " r_{n - 1} &= r_{n}q_{n}\n",
        "\\end{align}\n",
        "\n",
        "siendo  $\\qquad r_n = (a,b)$\n",
        "\n",
        "-> Se dejan actividades para los alumnos\n",
        "\n",
        "---\n",
        "\n",
        "autor: Roberto Méndez Méndez\n",
        "\n",
        "editado: 27 Jun 24"
      ],
      "metadata": {
        "id": "PzP_eTTP2Gq8"
      }
    },
    {
      "cell_type": "markdown",
      "source": [
        "Entrada de datos de tipo entero   a,b >0"
      ],
      "metadata": {
        "id": "qF-Hwe-91_kg"
      }
    },
    {
      "cell_type": "code",
      "execution_count": null,
      "metadata": {
        "id": "2NTTe07D1-ev"
      },
      "outputs": [],
      "source": [
        "a = int(input(\"Dame el primer entero: \"))\n",
        "b = int(input(\"Dame el segundo entero: \"))"
      ]
    },
    {
      "cell_type": "markdown",
      "source": [
        "### Análisis en casos para obtener el  máximo común divisor por el método de Euclides"
      ],
      "metadata": {
        "id": "CDJHjB6V2-4Z"
      }
    },
    {
      "cell_type": "code",
      "source": [
        "a = int(input(\"Dame el primer entero: \"))\n",
        "b = int(input(\"Dame el segundo entero: \"))\n",
        "\n",
        "q = a//b\n",
        "r = a - b*q\n",
        "if r != 0 :\n",
        "  a = b\n",
        "  b = r\n",
        "  print(a, b)\n",
        "  q = a//b\n",
        "  r = a - b*q\n",
        "  print(q, r)\n",
        "  if r != 0:\n",
        "    a = b\n",
        "    b = r\n",
        "    print(a, b)\n",
        "    q = a//b\n",
        "    r = a - b*q\n",
        "    if r != 0:\n",
        "      a = b\n",
        "      b = r\n",
        "      print(a, b)\n",
        "      q = a//b\n",
        "      r = a - b*q\n",
        "\n",
        "print(\"El máximo común divisor es: \", b)"
      ],
      "metadata": {
        "id": "_e0tEImr3D-q"
      },
      "execution_count": null,
      "outputs": []
    },
    {
      "cell_type": "markdown",
      "source": [
        "### Algoritmo de Euclides para obtener le mcd de dos números positivos"
      ],
      "metadata": {
        "id": "7V5EqrqX_Zgi"
      }
    },
    {
      "cell_type": "code",
      "source": [
        "a = int(input(\"Dame el primer entero: \"))\n",
        "b = int(input(\"Dame el segundo entero: \"))\n",
        "\n",
        "q = a//b\n",
        "r = a - b*q\n",
        "while r != 0 :\n",
        "  a = b\n",
        "  b = r\n",
        "  print(a, b)\n",
        "  q = a//b\n",
        "  r = a - b*q\n",
        "print(\"El máximo común divisor es: \", b)"
      ],
      "metadata": {
        "id": "Lo9wsrxD4f5X"
      },
      "execution_count": null,
      "outputs": []
    },
    {
      "cell_type": "markdown",
      "source": [
        "## ACTIVIDAD:\n",
        "\n",
        "Extienda el codigo anterior para todo par de enteros distintos de cero.\n",
        "\n",
        "Hint: El código anterior sólo funciona bien para enteros positivos"
      ],
      "metadata": {
        "id": "UfpRbaQHiQ8U"
      }
    }
  ]
}