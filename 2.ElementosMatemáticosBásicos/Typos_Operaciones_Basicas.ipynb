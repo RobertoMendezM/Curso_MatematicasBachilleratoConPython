{
  "nbformat": 4,
  "nbformat_minor": 0,
  "metadata": {
    "colab": {
      "provenance": [],
      "authorship_tag": "ABX9TyPlV6DXNu2bA9vwy8g6vfcX",
      "include_colab_link": true
    },
    "kernelspec": {
      "name": "python3",
      "display_name": "Python 3"
    },
    "language_info": {
      "name": "python"
    }
  },
  "cells": [
    {
      "cell_type": "markdown",
      "metadata": {
        "id": "view-in-github",
        "colab_type": "text"
      },
      "source": [
        "<a href=\"https://colab.research.google.com/github/RobertoMendezM/Curso_MatematicasBachilleratoConPython/blob/main/2.ElementosMatem%C3%A1ticosB%C3%A1sicos/Typos_Operaciones_Basicas.ipynb\" target=\"_parent\"><img src=\"https://colab.research.google.com/assets/colab-badge.svg\" alt=\"Open In Colab\"/></a>"
      ]
    },
    {
      "cell_type": "markdown",
      "source": [
        "# Tipos y Operaciones Básicas"
      ],
      "metadata": {
        "id": "iLSLYVT4M4lk"
      }
    },
    {
      "cell_type": "markdown",
      "source": [
        "## Tipo int() - Enteros"
      ],
      "metadata": {
        "id": "v_WJLCAUNFtq"
      }
    },
    {
      "cell_type": "code",
      "execution_count": null,
      "metadata": {
        "id": "12fzD6TSQn4c",
        "outputId": "8e4184ce-8b5b-4970-d444-f13a96c7b2e6",
        "colab": {
          "base_uri": "https://localhost:8080/"
        }
      },
      "outputs": [
        {
          "name": "stdout",
          "output_type": "stream",
          "text": [
            "Da un 1er entero: 34\n",
            "Dame un 2do entero: 23\n"
          ]
        }
      ],
      "source": [
        "entero1 = int(input('Da un 1er entero: '))\n",
        "entero2 = int(input('Dame un 2do entero: '))"
      ]
    },
    {
      "cell_type": "code",
      "source": [
        "print(entero1 + entero2)"
      ],
      "metadata": {
        "id": "8lfVRuo3QsRg",
        "colab": {
          "base_uri": "https://localhost:8080/"
        },
        "outputId": "89f5cedc-7c2b-4039-ebe3-18eb093e5543"
      },
      "execution_count": null,
      "outputs": [
        {
          "output_type": "stream",
          "name": "stdout",
          "text": [
            "57\n"
          ]
        }
      ]
    },
    {
      "cell_type": "code",
      "source": [
        "print(entero1 / entero2)"
      ],
      "metadata": {
        "colab": {
          "base_uri": "https://localhost:8080/"
        },
        "id": "XD8x42DoOFFq",
        "outputId": "06e4dca7-a0cb-4797-a7cf-261eb8f4ce1d"
      },
      "execution_count": null,
      "outputs": [
        {
          "output_type": "stream",
          "name": "stdout",
          "text": [
            "1.4782608695652173\n"
          ]
        }
      ]
    },
    {
      "cell_type": "code",
      "source": [
        "print(entero1 - entero2)"
      ],
      "metadata": {
        "colab": {
          "base_uri": "https://localhost:8080/"
        },
        "id": "QKcEAm04OPTz",
        "outputId": "4eef4c84-d82e-48bd-e128-af5026884c11"
      },
      "execution_count": null,
      "outputs": [
        {
          "output_type": "stream",
          "name": "stdout",
          "text": [
            "11\n"
          ]
        }
      ]
    },
    {
      "cell_type": "code",
      "source": [
        "print(entero1 * entero2)"
      ],
      "metadata": {
        "colab": {
          "base_uri": "https://localhost:8080/"
        },
        "id": "Z7hr--NmT02b",
        "outputId": "9bf586d7-3bbf-4cf0-dd8d-2cd8b5ea95b8"
      },
      "execution_count": null,
      "outputs": [
        {
          "output_type": "stream",
          "name": "stdout",
          "text": [
            "782\n"
          ]
        }
      ]
    },
    {
      "cell_type": "markdown",
      "source": [
        "### Potencia  **"
      ],
      "metadata": {
        "id": "sIrGsB4tT8P4"
      }
    },
    {
      "cell_type": "code",
      "source": [
        "resul = entero1**entero2\n",
        "print(resul)"
      ],
      "metadata": {
        "colab": {
          "base_uri": "https://localhost:8080/"
        },
        "id": "jC2nE_MeUB2W",
        "outputId": "50a91b02-866e-4af5-e945-433a4bf73f1b"
      },
      "execution_count": null,
      "outputs": [
        {
          "output_type": "stream",
          "name": "stdout",
          "text": [
            "167500108222301408246337399112597504\n"
          ]
        }
      ]
    },
    {
      "cell_type": "markdown",
      "source": [
        "### División Entera (Piso) //\n",
        "Regresa el cociente entero de la división"
      ],
      "metadata": {
        "id": "qUzFlQ_cOab1"
      }
    },
    {
      "cell_type": "code",
      "source": [
        "print(entero1 // entero2)"
      ],
      "metadata": {
        "colab": {
          "base_uri": "https://localhost:8080/"
        },
        "id": "1QrAAXn6OTcb",
        "outputId": "3d55dfb6-2597-440e-eb3d-72b78950ac9d"
      },
      "execution_count": null,
      "outputs": [
        {
          "output_type": "stream",
          "name": "stdout",
          "text": [
            "1\n"
          ]
        }
      ]
    },
    {
      "cell_type": "markdown",
      "source": [
        "### OPERACIÓN MÓDULO O RESIDUO %\n",
        "Regresa el residuo de una división  o el valor congruente de un número con respecto a un módulo dado"
      ],
      "metadata": {
        "id": "aXF6N_b_P0UC"
      }
    },
    {
      "cell_type": "code",
      "source": [
        "print(entero1 % entero2)"
      ],
      "metadata": {
        "colab": {
          "base_uri": "https://localhost:8080/"
        },
        "id": "c0flWNC_PkqA",
        "outputId": "0f1b9d1c-ecca-47d7-a9a2-1569d526244d"
      },
      "execution_count": null,
      "outputs": [
        {
          "output_type": "stream",
          "name": "stdout",
          "text": [
            "11\n"
          ]
        }
      ]
    },
    {
      "cell_type": "markdown",
      "source": [
        "## Tipo float()  \n",
        "Con este podemos representar números con parte decimal finita"
      ],
      "metadata": {
        "id": "9CTi0BWdQkTx"
      }
    },
    {
      "cell_type": "code",
      "execution_count": null,
      "metadata": {
        "outputId": "c0d7cb29-ba88-49d4-c96e-45a05e918142",
        "colab": {
          "base_uri": "https://localhost:8080/"
        },
        "id": "FBZaxSrSRIdH"
      },
      "outputs": [
        {
          "name": "stdout",
          "output_type": "stream",
          "text": [
            "Da un 1er número decimal: 34.5\n",
            "Dame un 2do número decimal: 23.78\n"
          ]
        }
      ],
      "source": [
        "f1 = float(input('Da un 1er número decimal: '))\n",
        "f2 = float(input('Dame un 2do número decimal: '))"
      ]
    },
    {
      "cell_type": "code",
      "source": [
        "print(f1 // f2)"
      ],
      "metadata": {
        "colab": {
          "base_uri": "https://localhost:8080/"
        },
        "id": "jfE8I62XRnjV",
        "outputId": "36d82312-1751-4e9a-926d-ea5c47cbdf38"
      },
      "execution_count": null,
      "outputs": [
        {
          "output_type": "stream",
          "name": "stdout",
          "text": [
            "1.0\n"
          ]
        }
      ]
    },
    {
      "cell_type": "code",
      "source": [
        "print(f1 % f2)"
      ],
      "metadata": {
        "colab": {
          "base_uri": "https://localhost:8080/"
        },
        "id": "t0WHqqhTRzxr",
        "outputId": "4ea7b630-99c6-42f9-87ed-8bdd2a040d8f"
      },
      "execution_count": null,
      "outputs": [
        {
          "output_type": "stream",
          "name": "stdout",
          "text": [
            "12.2\n"
          ]
        }
      ]
    },
    {
      "cell_type": "code",
      "source": [
        "print(f2 % f1)"
      ],
      "metadata": {
        "colab": {
          "base_uri": "https://localhost:8080/"
        },
        "id": "Bz1QhlWfS2s8",
        "outputId": "7f61dcd4-e928-4c0b-95f2-ed83540ae9e2"
      },
      "execution_count": null,
      "outputs": [
        {
          "output_type": "stream",
          "name": "stdout",
          "text": [
            "22.3\n"
          ]
        }
      ]
    },
    {
      "cell_type": "markdown",
      "source": [
        "## Tipo Decimal()  \n",
        "Se recomienda para cuestiones financieras y monetarias"
      ],
      "metadata": {
        "id": "LEonuuyRw8BJ"
      }
    },
    {
      "cell_type": "markdown",
      "source": [
        "\"\" Tomando 12.31 como número de tipo float \"\""
      ],
      "metadata": {
        "id": "UpwQK8fay1CE"
      }
    },
    {
      "cell_type": "code",
      "source": [
        "cantidad = 12.31\n",
        "print(cantidad)\n",
        "print(f'{cantidad:.20f}')"
      ],
      "metadata": {
        "colab": {
          "base_uri": "https://localhost:8080/"
        },
        "id": "Jg0Mskqpx84G",
        "outputId": "5f0ee980-f68e-4199-df44-d4fb69663c26"
      },
      "execution_count": null,
      "outputs": [
        {
          "output_type": "stream",
          "name": "stdout",
          "text": [
            "12.31\n",
            "12.31000000000000049738\n"
          ]
        }
      ]
    },
    {
      "cell_type": "markdown",
      "source": [
        "\"\" Tomando 12.31 como número de tipo Decimal \"\""
      ],
      "metadata": {
        "id": "DUcmA-Q7zE2C"
      }
    },
    {
      "cell_type": "code",
      "source": [
        "from decimal import Decimal\n",
        "cantidad = Decimal('12.31')\n",
        "print(cantidad)\n",
        "print(f'{cantidad:.20f}')"
      ],
      "metadata": {
        "colab": {
          "base_uri": "https://localhost:8080/"
        },
        "outputId": "14a965c6-6652-4384-861a-06f730f15ff9",
        "id": "o2HQfReL0vGx"
      },
      "execution_count": null,
      "outputs": [
        {
          "output_type": "stream",
          "name": "stdout",
          "text": [
            "12.31\n",
            "12.31000000000000000000\n"
          ]
        }
      ]
    },
    {
      "cell_type": "code",
      "execution_count": null,
      "metadata": {
        "outputId": "4c056f0c-5201-4d9a-abe7-268bc3184c4c",
        "colab": {
          "base_uri": "https://localhost:8080/"
        },
        "id": "kd0YbodF178j"
      },
      "outputs": [
        {
          "name": "stdout",
          "output_type": "stream",
          "text": [
            "Da un 1er número decimal: 45.67\n",
            "Dame un 2do número decimal: 12.367\n"
          ]
        }
      ],
      "source": [
        "fd1 = Decimal(input('Da un 1er número decimal: '))\n",
        "fd2 = Decimal(input('Dame un 2do número decimal: '))"
      ]
    },
    {
      "cell_type": "code",
      "source": [
        "suma = fd1 + fd2\n",
        "print(f'{suma:.20f}')"
      ],
      "metadata": {
        "colab": {
          "base_uri": "https://localhost:8080/"
        },
        "id": "_-7TTrqS2_ug",
        "outputId": "5ed953d3-c4aa-4278-ad1c-3b74aaed16c1"
      },
      "execution_count": null,
      "outputs": [
        {
          "output_type": "stream",
          "name": "stdout",
          "text": [
            "58.03700000000000000000\n"
          ]
        }
      ]
    },
    {
      "cell_type": "code",
      "source": [
        "resta = fd1 - fd2\n",
        "print(f'{resta:.20f}')"
      ],
      "metadata": {
        "colab": {
          "base_uri": "https://localhost:8080/"
        },
        "id": "jQzqZtlC3NDC",
        "outputId": "4ecd9b64-e61c-457a-cbfe-c4a21f6f2d71"
      },
      "execution_count": null,
      "outputs": [
        {
          "output_type": "stream",
          "name": "stdout",
          "text": [
            "33.30300000000000000000\n"
          ]
        }
      ]
    },
    {
      "cell_type": "code",
      "source": [
        "multi = fd1 * fd2\n",
        "print(f'{multi:.20f}')"
      ],
      "metadata": {
        "colab": {
          "base_uri": "https://localhost:8080/"
        },
        "id": "HVdszCeQ3NOr",
        "outputId": "25db9e48-c60b-44cc-a558-fcd0228fdc3a"
      },
      "execution_count": null,
      "outputs": [
        {
          "output_type": "stream",
          "name": "stdout",
          "text": [
            "564.80089000000000000000\n"
          ]
        }
      ]
    },
    {
      "cell_type": "code",
      "source": [
        "div = fd1 / fd2\n",
        "print(f'{div:.27f}')\n",
        "div2 = 45.67/12.367\n",
        "print(\"%30.27f\" % div2)"
      ],
      "metadata": {
        "colab": {
          "base_uri": "https://localhost:8080/"
        },
        "id": "CNjBBvJj3Ngl",
        "outputId": "33570f44-d93b-483d-d353-5451ae03efe3"
      },
      "execution_count": null,
      "outputs": [
        {
          "output_type": "stream",
          "name": "stdout",
          "text": [
            "3.692892374868601924476429207\n",
            " 3.692892374868602001214412667\n"
          ]
        }
      ]
    },
    {
      "cell_type": "code",
      "source": [
        "divEnt = fd1 // fd2\n",
        "print(f'{divEnt:.20f}')"
      ],
      "metadata": {
        "colab": {
          "base_uri": "https://localhost:8080/"
        },
        "id": "AcJQl3K03Nnl",
        "outputId": "428ce5de-24ab-48b8-cfa8-e27cb5258054"
      },
      "execution_count": null,
      "outputs": [
        {
          "output_type": "stream",
          "name": "stdout",
          "text": [
            "3.00000000000000000000\n"
          ]
        }
      ]
    },
    {
      "cell_type": "code",
      "source": [
        "residuo = fd1 % fd2\n",
        "print(f'{residuo:.20f}')"
      ],
      "metadata": {
        "colab": {
          "base_uri": "https://localhost:8080/"
        },
        "id": "FWb3seSI3SU3",
        "outputId": "727d44a3-d25f-440b-df5f-315f6e889ffd"
      },
      "execution_count": null,
      "outputs": [
        {
          "output_type": "stream",
          "name": "stdout",
          "text": [
            "8.56900000000000000000\n"
          ]
        }
      ]
    },
    {
      "cell_type": "code",
      "source": [
        "potencia = fd1**fd2\n",
        "print(f'{potencia:.20f}')"
      ],
      "metadata": {
        "colab": {
          "base_uri": "https://localhost:8080/"
        },
        "outputId": "531eac3c-6e3b-413d-a7f6-a19f2eabef57",
        "id": "y0Q1qtmP_iXE"
      },
      "execution_count": null,
      "outputs": [
        {
          "output_type": "stream",
          "name": "stdout",
          "text": [
            "334700776984879404434.39002090000000000000\n"
          ]
        }
      ]
    },
    {
      "cell_type": "markdown",
      "source": [
        "## Tipo Boolean()  - True - False -\n",
        "Operaciones lógicas y de comparación"
      ],
      "metadata": {
        "id": "DbV3gy0cF-Sm"
      }
    },
    {
      "cell_type": "code",
      "source": [
        "prop1 = True\n",
        "prop2 = False"
      ],
      "metadata": {
        "id": "oMNMyQFNGwLK"
      },
      "execution_count": null,
      "outputs": []
    },
    {
      "cell_type": "code",
      "source": [
        "print(not prop2)"
      ],
      "metadata": {
        "colab": {
          "base_uri": "https://localhost:8080/"
        },
        "id": "z0JhwYnMLEaK",
        "outputId": "350bea43-30e9-459f-a09a-cc3f7de94a2f"
      },
      "execution_count": null,
      "outputs": [
        {
          "output_type": "stream",
          "name": "stdout",
          "text": [
            "True\n"
          ]
        }
      ]
    },
    {
      "cell_type": "code",
      "source": [
        "print(prop1 and prop2)"
      ],
      "metadata": {
        "colab": {
          "base_uri": "https://localhost:8080/"
        },
        "id": "jx9nY6j5G4zM",
        "outputId": "fb44e03a-1869-4437-d6ab-121e2d71afcc"
      },
      "execution_count": null,
      "outputs": [
        {
          "output_type": "stream",
          "name": "stdout",
          "text": [
            "False\n"
          ]
        }
      ]
    },
    {
      "cell_type": "code",
      "source": [
        "print(prop1 or prop2)"
      ],
      "metadata": {
        "colab": {
          "base_uri": "https://localhost:8080/"
        },
        "id": "Nce94e-zLASd",
        "outputId": "c49a51b3-eeba-4602-d97a-c1cb3688697f"
      },
      "execution_count": null,
      "outputs": [
        {
          "output_type": "stream",
          "name": "stdout",
          "text": [
            "True\n"
          ]
        }
      ]
    },
    {
      "cell_type": "code",
      "source": [
        "print(prop1 and not prop2)"
      ],
      "metadata": {
        "colab": {
          "base_uri": "https://localhost:8080/"
        },
        "id": "HzbyZzH5LLik",
        "outputId": "4b16aa55-f60b-4dfc-fdd6-6717dd503ace"
      },
      "execution_count": null,
      "outputs": [
        {
          "output_type": "stream",
          "name": "stdout",
          "text": [
            "True\n"
          ]
        }
      ]
    },
    {
      "cell_type": "markdown",
      "source": [
        "## Tipo Complejo  - a+bj -\n",
        "*italicized text*"
      ],
      "metadata": {
        "id": "ZmG7l7vGbWa6"
      }
    },
    {
      "cell_type": "code",
      "source": [
        "z = 3 + 4j\n",
        "print(z)"
      ],
      "metadata": {
        "colab": {
          "base_uri": "https://localhost:8080/"
        },
        "id": "M9ZEftQs9vus",
        "outputId": "823e9d25-7322-45b9-f9a2-297359d4d3e6"
      },
      "execution_count": 1,
      "outputs": [
        {
          "output_type": "stream",
          "name": "stdout",
          "text": [
            "(3+4j)\n"
          ]
        }
      ]
    },
    {
      "cell_type": "markdown",
      "source": [
        "### Entrada de complejos desde el teclado\n",
        "### Escribir el número sin dejar espacios:   a+bj"
      ],
      "metadata": {
        "id": "Czoumkr0-j5M"
      }
    },
    {
      "cell_type": "code",
      "source": [
        "i"
      ],
      "metadata": {
        "id": "JEYkPSax-lQg"
      },
      "execution_count": null,
      "outputs": []
    },
    {
      "cell_type": "code",
      "source": [
        "z1 = complex(input('Da un número complejo: '))\n",
        "z2 = complex(input('Dame otro número complejo: '))\n"
      ],
      "metadata": {
        "colab": {
          "base_uri": "https://localhost:8080/"
        },
        "id": "-S7Iilvl9ng7",
        "outputId": "56bc16b5-2429-45d5-d3fd-4642cec94ce0"
      },
      "execution_count": 7,
      "outputs": [
        {
          "name": "stdout",
          "output_type": "stream",
          "text": [
            "Da un número complejo: 1+2j\n",
            "Dame otro número complejo: 3-4j\n"
          ]
        }
      ]
    },
    {
      "cell_type": "code",
      "source": [
        "print(z1 + z2)"
      ],
      "metadata": {
        "colab": {
          "base_uri": "https://localhost:8080/"
        },
        "id": "fSTIHCaW_5ao",
        "outputId": "aec39323-49af-4641-db17-64727369850a"
      },
      "execution_count": 8,
      "outputs": [
        {
          "output_type": "stream",
          "name": "stdout",
          "text": [
            "(4-2j)\n"
          ]
        }
      ]
    },
    {
      "cell_type": "code",
      "source": [
        "print(z1 - z2)"
      ],
      "metadata": {
        "colab": {
          "base_uri": "https://localhost:8080/"
        },
        "id": "hvtqBqvCA28e",
        "outputId": "c13682f3-b993-4060-9cb4-8006a22d40e7"
      },
      "execution_count": 9,
      "outputs": [
        {
          "output_type": "stream",
          "name": "stdout",
          "text": [
            "(-2+6j)\n"
          ]
        }
      ]
    },
    {
      "cell_type": "code",
      "source": [
        "print(z1 * z2)"
      ],
      "metadata": {
        "colab": {
          "base_uri": "https://localhost:8080/"
        },
        "id": "slhQpVYSA-PJ",
        "outputId": "49abb6e5-c673-4d7f-86ec-255232f7d432"
      },
      "execution_count": 10,
      "outputs": [
        {
          "output_type": "stream",
          "name": "stdout",
          "text": [
            "(11+2j)\n"
          ]
        }
      ]
    },
    {
      "cell_type": "code",
      "source": [
        "print(z1 / z2)"
      ],
      "metadata": {
        "colab": {
          "base_uri": "https://localhost:8080/"
        },
        "id": "W8BSDCFFBDsK",
        "outputId": "705fae0e-3b6a-4556-d48d-a7598312466a"
      },
      "execution_count": 11,
      "outputs": [
        {
          "output_type": "stream",
          "name": "stdout",
          "text": [
            "(-0.2+0.4j)\n"
          ]
        }
      ]
    },
    {
      "cell_type": "code",
      "source": [
        "print(z1**z2)"
      ],
      "metadata": {
        "colab": {
          "base_uri": "https://localhost:8080/"
        },
        "id": "tdlF2lI_CUni",
        "outputId": "a242bacc-0dd4-4a95-9de9-028fe587507a"
      },
      "execution_count": 12,
      "outputs": [
        {
          "output_type": "stream",
          "name": "stdout",
          "text": [
            "(932.1391946432212+95.9465336603415j)\n"
          ]
        }
      ]
    },
    {
      "cell_type": "markdown",
      "source": [
        "No está definida la operación //"
      ],
      "metadata": {
        "id": "RmSBO2eVEzGs"
      }
    },
    {
      "cell_type": "code",
      "source": [
        "print(z1 // z2)"
      ],
      "metadata": {
        "colab": {
          "base_uri": "https://localhost:8080/",
          "height": 164
        },
        "id": "DPA1CVZvDxuk",
        "outputId": "669f16c4-0903-47a1-e612-21e9e25d2e21"
      },
      "execution_count": 13,
      "outputs": [
        {
          "output_type": "error",
          "ename": "TypeError",
          "evalue": "unsupported operand type(s) for //: 'complex' and 'complex'",
          "traceback": [
            "\u001b[0;31m---------------------------------------------------------------------------\u001b[0m",
            "\u001b[0;31mTypeError\u001b[0m                                 Traceback (most recent call last)",
            "\u001b[0;32m<ipython-input-13-b291bedb2352>\u001b[0m in \u001b[0;36m<cell line: 1>\u001b[0;34m()\u001b[0m\n\u001b[0;32m----> 1\u001b[0;31m \u001b[0mprint\u001b[0m\u001b[0;34m(\u001b[0m\u001b[0mz1\u001b[0m \u001b[0;34m//\u001b[0m \u001b[0mz2\u001b[0m\u001b[0;34m)\u001b[0m\u001b[0;34m\u001b[0m\u001b[0;34m\u001b[0m\u001b[0m\n\u001b[0m",
            "\u001b[0;31mTypeError\u001b[0m: unsupported operand type(s) for //: 'complex' and 'complex'"
          ]
        }
      ]
    },
    {
      "cell_type": "markdown",
      "source": [
        "No está definida la operación residuo %"
      ],
      "metadata": {
        "id": "ZvWP1v8mE6-3"
      }
    },
    {
      "cell_type": "code",
      "source": [
        "print(z1 % z2)"
      ],
      "metadata": {
        "colab": {
          "base_uri": "https://localhost:8080/",
          "height": 164
        },
        "id": "pPOLqkbMD4Vo",
        "outputId": "9a09de00-9007-4764-bed5-e499514445f8"
      },
      "execution_count": 14,
      "outputs": [
        {
          "output_type": "error",
          "ename": "TypeError",
          "evalue": "unsupported operand type(s) for %: 'complex' and 'complex'",
          "traceback": [
            "\u001b[0;31m---------------------------------------------------------------------------\u001b[0m",
            "\u001b[0;31mTypeError\u001b[0m                                 Traceback (most recent call last)",
            "\u001b[0;32m<ipython-input-14-54088285ad2a>\u001b[0m in \u001b[0;36m<cell line: 1>\u001b[0;34m()\u001b[0m\n\u001b[0;32m----> 1\u001b[0;31m \u001b[0mprint\u001b[0m\u001b[0;34m(\u001b[0m\u001b[0mz1\u001b[0m \u001b[0;34m%\u001b[0m \u001b[0mz2\u001b[0m\u001b[0;34m)\u001b[0m\u001b[0;34m\u001b[0m\u001b[0;34m\u001b[0m\u001b[0m\n\u001b[0m",
            "\u001b[0;31mTypeError\u001b[0m: unsupported operand type(s) for %: 'complex' and 'complex'"
          ]
        }
      ]
    },
    {
      "cell_type": "markdown",
      "source": [
        "## String o Cadenas"
      ],
      "metadata": {
        "id": "YqBmCBrbGUcW"
      }
    },
    {
      "cell_type": "code",
      "source": [
        "str = 'Hola Mundo'\n",
        "print(str)"
      ],
      "metadata": {
        "id": "-BOg2UmUGeKu"
      },
      "execution_count": null,
      "outputs": []
    },
    {
      "cell_type": "code",
      "source": [
        "str1 = input('Dame una cadena: ')\n",
        "str2 = input('Dame otra cadena: ')"
      ],
      "metadata": {
        "colab": {
          "base_uri": "https://localhost:8080/"
        },
        "id": "6LjjkoycGwaX",
        "outputId": "24e41c75-d24a-4422-c57a-9a9cb2665ade"
      },
      "execution_count": 1,
      "outputs": [
        {
          "name": "stdout",
          "output_type": "stream",
          "text": [
            "Dame una cadena: hola como estas\n",
            "Dame otra cadena: bien gracias\n"
          ]
        }
      ]
    },
    {
      "cell_type": "markdown",
      "source": [
        "Concatenación de cadenas"
      ],
      "metadata": {
        "id": "tQ6rr0riG-Gn"
      }
    },
    {
      "cell_type": "code",
      "source": [
        "str_concatenado = str1 + str2\n",
        "print(str_concatenado)"
      ],
      "metadata": {
        "colab": {
          "base_uri": "https://localhost:8080/"
        },
        "id": "0N6Wm-psG7Bv",
        "outputId": "a085f905-1667-4f21-d747-6837e5cd44b0"
      },
      "execution_count": 2,
      "outputs": [
        {
          "output_type": "stream",
          "name": "stdout",
          "text": [
            "hola como estasbien gracias\n"
          ]
        }
      ]
    },
    {
      "cell_type": "code",
      "source": [
        "str_concatenado = str1 + ' ' + str2\n",
        "print(str_concatenado)"
      ],
      "metadata": {
        "colab": {
          "base_uri": "https://localhost:8080/"
        },
        "id": "CorCraaUHQQF",
        "outputId": "bee8e60d-f1d1-497f-d339-e39eb8410ea5"
      },
      "execution_count": 3,
      "outputs": [
        {
          "output_type": "stream",
          "name": "stdout",
          "text": [
            "hola como estas bien gracias\n"
          ]
        }
      ]
    },
    {
      "cell_type": "code",
      "source": [
        "str_concatenado = str1 + '\\n' + str2\n",
        "print(str_concatenado)"
      ],
      "metadata": {
        "colab": {
          "base_uri": "https://localhost:8080/"
        },
        "id": "7JEysf7wHX0U",
        "outputId": "47ec7a68-7d8f-4aa3-e980-fb6e4d05c02a"
      },
      "execution_count": 4,
      "outputs": [
        {
          "output_type": "stream",
          "name": "stdout",
          "text": [
            "hola como estas\n",
            "bien gracias\n"
          ]
        }
      ]
    },
    {
      "cell_type": "code",
      "source": [
        "str_concatenado = str1 + '\\t' + str2\n",
        "print(str_concatenado)"
      ],
      "metadata": {
        "colab": {
          "base_uri": "https://localhost:8080/"
        },
        "id": "RiMOT5yjHg_5",
        "outputId": "867af552-72ef-49c0-ab81-781f80d72e05"
      },
      "execution_count": 20,
      "outputs": [
        {
          "output_type": "stream",
          "name": "stdout",
          "text": [
            "hola\t34\n"
          ]
        }
      ]
    },
    {
      "cell_type": "markdown",
      "source": [
        "Retorno de carro \\r"
      ],
      "metadata": {
        "id": "VuZUoKQKZFYI"
      }
    },
    {
      "cell_type": "code",
      "source": [
        "str_concatenado = str1 + '\\r' + str2\n",
        "print(str_concatenado)"
      ],
      "metadata": {
        "colab": {
          "base_uri": "https://localhost:8080/"
        },
        "id": "EmQO2mCTHkLA",
        "outputId": "92fddbb2-05e4-41e0-b860-213cc8fd055f"
      },
      "execution_count": 5,
      "outputs": [
        {
          "output_type": "stream",
          "name": "stdout",
          "text": [
            "hola como estas\rbien gracias\n"
          ]
        }
      ]
    },
    {
      "cell_type": "code",
      "source": [
        "str"
      ],
      "metadata": {
        "id": "9jhtIPyPZKAB"
      },
      "execution_count": null,
      "outputs": []
    }
  ]
}