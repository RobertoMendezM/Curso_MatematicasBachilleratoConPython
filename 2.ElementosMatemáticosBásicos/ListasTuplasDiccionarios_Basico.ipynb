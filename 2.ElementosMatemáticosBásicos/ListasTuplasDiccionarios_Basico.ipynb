{
  "nbformat": 4,
  "nbformat_minor": 0,
  "metadata": {
    "colab": {
      "provenance": [],
      "authorship_tag": "ABX9TyOp9N/My3xvmsT+Zn5Nbe4v",
      "include_colab_link": true
    },
    "kernelspec": {
      "name": "python3",
      "display_name": "Python 3"
    },
    "language_info": {
      "name": "python"
    }
  },
  "cells": [
    {
      "cell_type": "markdown",
      "metadata": {
        "id": "view-in-github",
        "colab_type": "text"
      },
      "source": [
        "<a href=\"https://colab.research.google.com/github/RobertoMendezM/Curso_MatematicasBachilleratoConPython/blob/main/2.ElementosMatem%C3%A1ticosB%C3%A1sicos/ListasTuplasDiccionarios_Basico.ipynb\" target=\"_parent\"><img src=\"https://colab.research.google.com/assets/colab-badge.svg\" alt=\"Open In Colab\"/></a>"
      ]
    },
    {
      "cell_type": "markdown",
      "source": [
        "# Listas, Tuplas y Diccionarios"
      ],
      "metadata": {
        "id": "htfYNDoz-ruj"
      }
    },
    {
      "cell_type": "markdown",
      "source": [
        "## Listas [ ]\n",
        "Tamaño variable"
      ],
      "metadata": {
        "id": "Zgjnru9I-xKa"
      }
    },
    {
      "cell_type": "code",
      "execution_count": null,
      "metadata": {
        "id": "vXMqnDax-kwD"
      },
      "outputs": [],
      "source": [
        "ejemplo1 = [1,2,3,4,5]\n",
        "print(ejemplo1)"
      ]
    },
    {
      "cell_type": "code",
      "source": [
        "ejemplo2 = [\"a\",2.34,'Algo',5,True]\n",
        "print(ejemplo2)"
      ],
      "metadata": {
        "id": "qXqtLizj-58G"
      },
      "execution_count": null,
      "outputs": []
    },
    {
      "cell_type": "code",
      "source": [
        "a = []\n",
        "for x in range(100):\n",
        "  if x%2 == 0:\n",
        "    a.append(x)\n",
        "print(a)"
      ],
      "metadata": {
        "colab": {
          "base_uri": "https://localhost:8080/"
        },
        "id": "hKsLXOxeTlgA",
        "outputId": "2f3e1e30-e4d9-4fb2-d183-15fe3dd41ae3"
      },
      "execution_count": null,
      "outputs": [
        {
          "output_type": "stream",
          "name": "stdout",
          "text": [
            "[0, 2, 4, 6, 8, 10, 12, 14, 16, 18, 20, 22, 24, 26, 28, 30, 32, 34, 36, 38, 40, 42, 44, 46, 48, 50, 52, 54, 56, 58, 60, 62, 64, 66, 68, 70, 72, 74, 76, 78, 80, 82, 84, 86, 88, 90, 92, 94, 96, 98]\n"
          ]
        }
      ]
    },
    {
      "cell_type": "markdown",
      "source": [
        "Actividad: Mostrar varias funciones que tiene una lista"
      ],
      "metadata": {
        "id": "8Tvn6R2bU0bb"
      }
    },
    {
      "cell_type": "code",
      "source": [],
      "metadata": {
        "id": "dd0IJXlGUlOr"
      },
      "execution_count": null,
      "outputs": []
    },
    {
      "cell_type": "markdown",
      "source": [],
      "metadata": {
        "id": "9fW2jYr4UzPm"
      }
    },
    {
      "cell_type": "markdown",
      "source": [
        "## Tuplas ( )\n",
        "Tamaño fijo"
      ],
      "metadata": {
        "id": "eHkrfcCOBBUi"
      }
    },
    {
      "cell_type": "code",
      "source": [
        "ejemplo3 = (1,2,True,4,5)\n",
        "print(ejemplo3)"
      ],
      "metadata": {
        "colab": {
          "base_uri": "https://localhost:8080/"
        },
        "id": "_Fe0pN9MBIyt",
        "outputId": "a5629118-86c0-49a3-8cd6-bc6a8231773a"
      },
      "execution_count": null,
      "outputs": [
        {
          "output_type": "stream",
          "name": "stdout",
          "text": [
            "(1, 2, True, 4, 5)\n"
          ]
        }
      ]
    },
    {
      "cell_type": "markdown",
      "source": [
        "Defino la multiplicación y suma de los complejos"
      ],
      "metadata": {
        "id": "JYH2FxwqB12I"
      }
    },
    {
      "cell_type": "code",
      "source": [
        "def sumaComplejos(z1,z2):\n",
        "    return (z1[0]+z2[0],z1[1]+z2[1])\n",
        "\n",
        "def multComplejos(z1,z2):\n",
        "    return (z1[0]*z2[0]-z1[1]*z2[1],z1[0]*z2[1]+z1[1]*z2[0])"
      ],
      "metadata": {
        "id": "2e-JNdpbB-5W"
      },
      "execution_count": null,
      "outputs": []
    },
    {
      "cell_type": "code",
      "source": [
        "z1 = (2,1)\n",
        "z2 = (2,2)\n",
        "print(sumaComplejos(z1,z2))"
      ],
      "metadata": {
        "colab": {
          "base_uri": "https://localhost:8080/"
        },
        "id": "ep8zjTyHEEgJ",
        "outputId": "d83f17e6-925a-4904-d687-01eb00b0302d"
      },
      "execution_count": null,
      "outputs": [
        {
          "output_type": "stream",
          "name": "stdout",
          "text": [
            "(4, 3)\n"
          ]
        }
      ]
    },
    {
      "cell_type": "markdown",
      "source": [
        "Suma de Vectores"
      ],
      "metadata": {
        "id": "1FQLIK4yCRTl"
      }
    },
    {
      "cell_type": "code",
      "source": [
        "suma = sumaComplejos(z1,z2)\n"
      ],
      "metadata": {
        "id": "jNMe1CcoG5NI"
      },
      "execution_count": null,
      "outputs": []
    },
    {
      "cell_type": "code",
      "source": [
        "import matplotlib.pyplot as plt\n",
        "\n",
        "plt.quiver(z1[0], z1[1], z2[0], z2[1], color='b',\n",
        "           units='xy', scale=1)\n",
        "plt.quiver(0, 0, z1[0], z1[1], color='g', units='xy',scale=1)\n",
        "plt.quiver(0, 0, suma[0], suma[1], color='r',\n",
        "           units='xy',scale=1)\n",
        "plt.axis('scaled')\n",
        "plt.xlim(0, 5)\n",
        "plt.ylim(0, 5)\n",
        "plt.show()"
      ],
      "metadata": {
        "colab": {
          "base_uri": "https://localhost:8080/",
          "height": 435
        },
        "id": "mVRZ_YPqHDny",
        "outputId": "b3890186-397c-49ec-9d48-3f12693cc3b3"
      },
      "execution_count": null,
      "outputs": [
        {
          "output_type": "display_data",
          "data": {
            "text/plain": [
              "<Figure size 640x480 with 1 Axes>"
            ],
            "image/png": "[encoded data removed]"
          },
          "metadata": {}
        }
      ]
    },
    {
      "cell_type": "code",
      "source": [
        "# prompt: vector sum\n",
        "\n",
        "def vector_sum(vector1, vector2):\n",
        "  \"\"\"\n",
        "  This function adds two vectors and returns the resulting vector.\n",
        "\n",
        "  Args:\n",
        "      vector1: The first vector.\n",
        "      vector2: The second vector.\n",
        "\n",
        "  Returns:\n",
        "      The resulting vector.\n",
        "  \"\"\"\n",
        "\n",
        "  # Check if the vectors have the same length.\n",
        "  if len(vector1) != len(vector2):\n",
        "    raise ValueError(\"Vectors must have the same length.\")\n",
        "\n",
        "  # Create a new vector to store the result.\n",
        "  result = []\n",
        "\n",
        "  # Add the corresponding elements of the two vectors.\n",
        "  for i in range(len(vector1)):\n",
        "    result.append(vector1[i] + vector2[i])\n",
        "\n",
        "  # Return the resulting vector.\n",
        "  return result\n",
        "\n",
        "# Example usage\n",
        "vector1 = [1, 2, 3]\n",
        "vector2 = [4, 5, 6]\n",
        "result = vector_sum(vector1, vector2)\n",
        "print(result)\n"
      ],
      "metadata": {
        "colab": {
          "base_uri": "https://localhost:8080/"
        },
        "id": "fV0MiX_bEPOo",
        "outputId": "bde9702e-a8ba-4972-98ff-1ca05a14cad6"
      },
      "execution_count": null,
      "outputs": [
        {
          "output_type": "stream",
          "name": "stdout",
          "text": [
            "[5, 7, 9]\n"
          ]
        }
      ]
    },
    {
      "cell_type": "markdown",
      "source": [
        "Actividad. Ver funciones de Tupla"
      ],
      "metadata": {
        "id": "GDtMAnRXWHMh"
      }
    },
    {
      "cell_type": "code",
      "source": [
        "ejemplo3.count(5)"
      ],
      "metadata": {
        "colab": {
          "base_uri": "https://localhost:8080/"
        },
        "id": "Xe92EGE9VXVk",
        "outputId": "bfb08019-0522-45cb-a593-280c45e5d843"
      },
      "execution_count": null,
      "outputs": [
        {
          "output_type": "execute_result",
          "data": {
            "text/plain": [
              "1"
            ]
          },
          "metadata": {},
          "execution_count": 38
        }
      ]
    },
    {
      "cell_type": "markdown",
      "source": [
        "## Diccionarios {:, :}\n"
      ],
      "metadata": {
        "id": "54DRKKV9WS-9"
      }
    },
    {
      "cell_type": "code",
      "source": [
        "calificaciones = {'Saul' : 8.3 , 'Greta' : 9.5 , 'Alex' : 7.8, 'Oscar' : 6.9, 'José' : 9.2}"
      ],
      "metadata": {
        "id": "XbgM9eKxJs2s"
      },
      "execution_count": 1,
      "outputs": []
    },
    {
      "cell_type": "code",
      "source": [
        "print(calificaciones['Alex'])"
      ],
      "metadata": {
        "colab": {
          "base_uri": "https://localhost:8080/"
        },
        "id": "smw26tlGqRJH",
        "outputId": "87d271a5-77f4-4bb7-db8d-a75532bf78c1"
      },
      "execution_count": 2,
      "outputs": [
        {
          "output_type": "stream",
          "name": "stdout",
          "text": [
            "7.8\n"
          ]
        }
      ]
    },
    {
      "cell_type": "markdown",
      "source": [
        "Actualizar un dato"
      ],
      "metadata": {
        "id": "qJ4Dt8oqB3tr"
      }
    },
    {
      "cell_type": "code",
      "source": [
        "calificaciones['Alex'] = 10\n",
        "print(calificaciones)"
      ],
      "metadata": {
        "colab": {
          "base_uri": "https://localhost:8080/"
        },
        "id": "9tRSnVJbBstq",
        "outputId": "0b639de3-ee15-463f-c475-dddf03cd8c44"
      },
      "execution_count": 7,
      "outputs": [
        {
          "output_type": "stream",
          "name": "stdout",
          "text": [
            "{'Saul': 8.3, 'Greta': 9.5, 'Alex': 10, 'Oscar': 6.9, 'José': 9.2}\n"
          ]
        }
      ]
    },
    {
      "cell_type": "markdown",
      "source": [
        "Agregar un elemento"
      ],
      "metadata": {
        "id": "LV_nWnwOB6xY"
      }
    },
    {
      "cell_type": "code",
      "source": [
        "calificaciones['Maria'] = 7.5\n",
        "print(calificaciones)"
      ],
      "metadata": {
        "colab": {
          "base_uri": "https://localhost:8080/"
        },
        "id": "6D8ddR7LCCQQ",
        "outputId": "2fc7dc81-103a-4163-f7c4-05f6f3dcf522"
      },
      "execution_count": 8,
      "outputs": [
        {
          "output_type": "stream",
          "name": "stdout",
          "text": [
            "{'Saul': 8.3, 'Greta': 9.5, 'Alex': 10, 'Oscar': 6.9, 'José': 9.2, 'Maria': 7.5}\n"
          ]
        }
      ]
    },
    {
      "cell_type": "code",
      "source": [
        "calificaciones.update({'Raul': 8.5})\n",
        "print(calificaciones)"
      ],
      "metadata": {
        "colab": {
          "base_uri": "https://localhost:8080/"
        },
        "id": "f0NVjheeCIEJ",
        "outputId": "d77518f4-dc32-4251-8746-35258b3a0386"
      },
      "execution_count": 9,
      "outputs": [
        {
          "output_type": "stream",
          "name": "stdout",
          "text": [
            "{'Saul': 8.3, 'Greta': 9.5, 'Alex': 10, 'Oscar': 6.9, 'José': 9.2, 'Maria': 7.5, 'Raul': 8.5}\n"
          ]
        }
      ]
    },
    {
      "cell_type": "code",
      "source": [
        "ssDiametro = {'Sun': 1392000,'Mercury' : 4879, 'Venus' : 12092, 'Earth' : 12756, 'Mars' : 6792,\n",
        "                    'Jupiter' : 142984 ,'Saturn': 120536, 'Uranus': 50724, 'Neptuno':49244,\n",
        "                    'Pluto': 2376.6}\n",
        "for x in ssDiametro:\n",
        "  print(f'The {x} have a diameter of {ssDiametro[x]}.')\n",
        "print ()\n",
        "for x in sorted(ssDiametro):\n",
        "  print(f'The {x} have a diameter of {ssDiametro[x]}.')"
      ],
      "metadata": {
        "colab": {
          "base_uri": "https://localhost:8080/"
        },
        "id": "cYDlmtqh3eJB",
        "outputId": "1bb8f216-79b4-4b48-a71f-d970a0b9c455"
      },
      "execution_count": 5,
      "outputs": [
        {
          "output_type": "stream",
          "name": "stdout",
          "text": [
            "The Sun have a diameter of 1392000.\n",
            "The Mercury have a diameter of 4879.\n",
            "The Venus have a diameter of 12092.\n",
            "The Earth have a diameter of 12756.\n",
            "The Mars have a diameter of 6792.\n",
            "The Jupiter have a diameter of 142984.\n",
            "The Saturn have a diameter of 120536.\n",
            "The Uranus have a diameter of 50724.\n",
            "The Neptuno have a diameter of 49244.\n",
            "The Pluto have a diameter of 2376.6.\n",
            "\n",
            "The Earth have a diameter of 12756.\n",
            "The Jupiter have a diameter of 142984.\n",
            "The Mars have a diameter of 6792.\n",
            "The Mercury have a diameter of 4879.\n",
            "The Neptuno have a diameter of 49244.\n",
            "The Pluto have a diameter of 2376.6.\n",
            "The Saturn have a diameter of 120536.\n",
            "The Sun have a diameter of 1392000.\n",
            "The Uranus have a diameter of 50724.\n",
            "The Venus have a diameter of 12092.\n"
          ]
        }
      ]
    },
    {
      "cell_type": "markdown",
      "source": [
        "Actividad: Que planeta tiene un diametro de aproximadamente 38% el de la tierra."
      ],
      "metadata": {
        "id": "CI_bcYMp5ZY0"
      }
    },
    {
      "cell_type": "code",
      "source": [
        "r = ssDiametro['Mercury']/ssDiametro['Earth']\n",
        "print(r)"
      ],
      "metadata": {
        "colab": {
          "base_uri": "https://localhost:8080/"
        },
        "id": "pra4JHHgqVXo",
        "outputId": "a6d89c8d-4f03-47a4-a8dd-b041f937002c"
      },
      "execution_count": 6,
      "outputs": [
        {
          "output_type": "stream",
          "name": "stdout",
          "text": [
            "0.38248667293822514\n"
          ]
        }
      ]
    }
  ]
}