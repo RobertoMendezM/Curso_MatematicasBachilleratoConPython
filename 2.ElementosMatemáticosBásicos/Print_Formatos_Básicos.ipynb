{
  "nbformat": 4,
  "nbformat_minor": 0,
  "metadata": {
    "colab": {
      "provenance": []
    },
    "kernelspec": {
      "name": "python3",
      "display_name": "Python 3"
    },
    "language_info": {
      "name": "python"
    }
  },
  "cells": [
    {
      "cell_type": "markdown",
      "source": [
        "# Formatos Básicos con print\n",
        "\n",
        "\n",
        "---\n",
        "@author: Roberto Méndez\n",
        "\n",
        "Editado: Jun 24 24\n"
      ],
      "metadata": {
        "id": "IMhXm87mtMmj"
      }
    },
    {
      "cell_type": "markdown",
      "source": [],
      "metadata": {
        "id": "lNErUblgr0vn"
      }
    },
    {
      "cell_type": "code",
      "execution_count": null,
      "metadata": {
        "colab": {
          "base_uri": "https://localhost:8080/"
        },
        "id": "fNmzYAQnJWaL",
        "outputId": "5468a28c-d52b-41d7-d3b3-c3e1bd26eca2"
      },
      "outputs": [
        {
          "output_type": "stream",
          "name": "stdout",
          "text": [
            "Aproximación de pi es 3.1416 y ya es buena\n"
          ]
        }
      ],
      "source": [
        "a = 3.1416\n",
        "print('Aproximación de pi es', a , 'y ya es buena')"
      ]
    },
    {
      "cell_type": "code",
      "execution_count": null,
      "metadata": {
        "colab": {
          "base_uri": "https://localhost:8080/"
        },
        "outputId": "0796ca03-a12d-4966-847b-27414158274a",
        "id": "Ggg-SnrSJtc2"
      },
      "outputs": [
        {
          "output_type": "stream",
          "name": "stdout",
          "text": [
            "Aproximación de pi es 3.1416 y ya es buena\n"
          ]
        }
      ],
      "source": [
        "a = 3.1416\n",
        "print('Aproximación de pi es' + str(a) + 'y ya es buena')"
      ]
    },
    {
      "cell_type": "code",
      "execution_count": null,
      "metadata": {
        "colab": {
          "base_uri": "https://localhost:8080/"
        },
        "outputId": "b4b79002-7b9a-41bd-f44d-c9c1cf7b5efe",
        "id": "SZqSM3z5KQD_"
      },
      "outputs": [
        {
          "output_type": "stream",
          "name": "stdout",
          "text": [
            "Aproximación de pi es 3.141592653589793 y ya es buena\n",
            "Aproximación de pi es 3.1416 y ya es buena\n",
            "Aproximación de pi es 3.141592653589793115997963468544 y ya es buena\n"
          ]
        }
      ],
      "source": [
        "import math\n",
        "a = math.pi\n",
        "print('Aproximación de pi es ' + str(a) + ' y ya es buena \\n')\n",
        "print(f'Aproximación de pi es {a:.4f} y ya es buena \\n')\n",
        "print(f'Aproximación de pi es {a:.30f} y ya es buena ')"
      ]
    },
    {
      "cell_type": "code",
      "execution_count": null,
      "metadata": {
        "colab": {
          "base_uri": "https://localhost:8080/"
        },
        "outputId": "2b86a5d5-40df-49a0-9479-86c87efa94d6",
        "id": "7NsLjWWUKjmR"
      },
      "outputs": [
        {
          "output_type": "stream",
          "name": "stdout",
          "text": [
            "De 340123456 votantes solo votaron 123456789        \n",
            " que equivale al 36.30% de votantes \n"
          ]
        }
      ],
      "source": [
        "votos = 123_456_789\n",
        "padron_electoral = 340_123_456\n",
        "porcentaje = votos/padron_electoral\n",
        "print('De {:7} votantes solo votaron {:9d} \\\n",
        "       \\n que equivale al {:2.2%} de votantes '\n",
        "      .format(padron_electoral, votos, porcentaje))"
      ]
    },
    {
      "cell_type": "markdown",
      "source": [
        "### Ejemplo de calcular el interés compuesto para Cetes (aproximado)\n",
        "\n",
        "Tema: formato de la función print con alineado a la izquierda\n",
        "\n",
        "Subtema: Uso del tipo Decimal y ciclo for\n",
        "\n",
        "Referencias:\n",
        "* https://www.condusef.gob.mx/?p=simuladores#ai\n",
        "\n",
        "Created on Tue Jun 11 2024"
      ],
      "metadata": {
        "id": "SlZbNNHTs6Rw"
      }
    },
    {
      "cell_type": "code",
      "source": [
        "from decimal import Decimal\n",
        "\n",
        "principal = Decimal('10000')\n",
        "tasa = Decimal('.1134')\n",
        "\n",
        "for year in range(1, 11):\n",
        "    cantidad = principal * (1 + tasa) ** year\n",
        "    print(f'{year:>2}{cantidad:>10.2f}')"
      ],
      "metadata": {
        "colab": {
          "base_uri": "https://localhost:8080/"
        },
        "id": "hwVZ9NzZ4A0n",
        "outputId": "b5b40fd5-80d5-428c-a036-69adc928b321"
      },
      "execution_count": 1,
      "outputs": [
        {
          "output_type": "stream",
          "name": "stdout",
          "text": [
            " 1  11134.00\n",
            " 2  12396.60\n",
            " 3  13802.37\n",
            " 4  15367.56\n",
            " 5  17110.24\n",
            " 6  19050.54\n",
            " 7  21210.87\n",
            " 8  23616.18\n",
            " 9  26294.26\n",
            "10  29276.03\n"
          ]
        }
      ]
    }
  ]
}