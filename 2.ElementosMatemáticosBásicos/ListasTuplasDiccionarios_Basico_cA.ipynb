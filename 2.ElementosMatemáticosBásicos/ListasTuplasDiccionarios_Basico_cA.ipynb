{
  "nbformat": 4,
  "nbformat_minor": 0,
  "metadata": {
    "colab": {
      "provenance": []
    },
    "kernelspec": {
      "name": "python3",
      "display_name": "Python 3"
    },
    "language_info": {
      "name": "python"
    }
  },
  "cells": [
    {
      "cell_type": "markdown",
      "source": [
        "# Listas, Tuplas y Diccionarios\n",
        "\n",
        "---\n",
        "editor: Roberto Méndez Méndez\n",
        "\n",
        "modificado: 21 Jun 24"
      ],
      "metadata": {
        "id": "htfYNDoz-ruj"
      }
    },
    {
      "cell_type": "markdown",
      "source": [
        "## Listas [ ]\n",
        "Tamaño variable"
      ],
      "metadata": {
        "id": "Zgjnru9I-xKa"
      }
    },
    {
      "cell_type": "code",
      "execution_count": null,
      "metadata": {
        "id": "vXMqnDax-kwD"
      },
      "outputs": [],
      "source": [
        "ejemplo1 = [1,2,3,4,5]\n",
        "print(ejemplo1)"
      ]
    },
    {
      "cell_type": "code",
      "source": [
        "ejemplo2 = [\"a\",2.34,'Algo',5,True]\n",
        "print(ejemplo2)"
      ],
      "metadata": {
        "id": "qXqtLizj-58G"
      },
      "execution_count": null,
      "outputs": []
    },
    {
      "cell_type": "code",
      "source": [
        "a = []\n",
        "for x in range(100):\n",
        "  if x%2 == 0:\n",
        "    a.append(x)\n",
        "print(a)"
      ],
      "metadata": {
        "colab": {
          "base_uri": "https://localhost:8080/"
        },
        "id": "hKsLXOxeTlgA",
        "outputId": "679ba8bf-6eca-46e1-e31c-097b30c79d6c"
      },
      "execution_count": 6,
      "outputs": [
        {
          "output_type": "stream",
          "name": "stdout",
          "text": [
            "[0, 2, 4, 6, 8, 10, 12, 14, 16, 18, 20, 22, 24, 26, 28, 30, 32, 34, 36, 38, 40, 42, 44, 46, 48, 50, 52, 54, 56, 58, 60, 62, 64, 66, 68, 70, 72, 74, 76, 78, 80, 82, 84, 86, 88, 90, 92, 94, 96, 98]\n"
          ]
        }
      ]
    },
    {
      "cell_type": "markdown",
      "source": [
        "## Actividad:\n",
        "### Para qué sirven las funciones\n",
        "\n",
        "*  index\n",
        "*  count\n",
        "*  remove\n",
        "\n",
        "### en una lista"
      ],
      "metadata": {
        "id": "8Tvn6R2bU0bb"
      }
    },
    {
      "cell_type": "code",
      "source": [
        "# Ejemplo\n",
        "a.remove(10)\n",
        "print(a)"
      ],
      "metadata": {
        "id": "dd0IJXlGUlOr",
        "colab": {
          "base_uri": "https://localhost:8080/"
        },
        "outputId": "f530b09a-4218-4be6-cdf8-08a37799ef05"
      },
      "execution_count": 7,
      "outputs": [
        {
          "output_type": "stream",
          "name": "stdout",
          "text": [
            "[0, 2, 4, 6, 8, 12, 14, 16, 18, 20, 22, 24, 26, 28, 30, 32, 34, 36, 38, 40, 42, 44, 46, 48, 50, 52, 54, 56, 58, 60, 62, 64, 66, 68, 70, 72, 74, 76, 78, 80, 82, 84, 86, 88, 90, 92, 94, 96, 98]\n"
          ]
        }
      ]
    },
    {
      "cell_type": "markdown",
      "source": [
        "## Tuplas ( )\n",
        "Tamaño fijo"
      ],
      "metadata": {
        "id": "eHkrfcCOBBUi"
      }
    },
    {
      "cell_type": "code",
      "source": [
        "ejemplo3 = (1,2,True,'Hola',5)\n",
        "print(ejemplo3)"
      ],
      "metadata": {
        "colab": {
          "base_uri": "https://localhost:8080/"
        },
        "id": "_Fe0pN9MBIyt",
        "outputId": "aabf17ed-9efb-4885-f584-ae2f06cd6fa2"
      },
      "execution_count": null,
      "outputs": [
        {
          "output_type": "stream",
          "name": "stdout",
          "text": [
            "(1, 2, True, 'Hola', 5)\n"
          ]
        }
      ]
    },
    {
      "cell_type": "markdown",
      "source": [
        "Defino la multiplicación y suma de los complejos"
      ],
      "metadata": {
        "id": "JYH2FxwqB12I"
      }
    },
    {
      "cell_type": "code",
      "source": [
        "def sumaComplejos(z1,z2):\n",
        "    return (z1[0]+z2[0],z1[1]+z2[1])\n",
        "\n",
        "def multComplejos(z1,z2):\n",
        "    return (z1[0]*z2[0]-z1[1]*z2[1],z1[0]*z2[1]+z1[1]*z2[0])"
      ],
      "metadata": {
        "id": "2e-JNdpbB-5W"
      },
      "execution_count": null,
      "outputs": []
    },
    {
      "cell_type": "code",
      "source": [
        "z1 = (2,1)\n",
        "z2 = (3,4)\n",
        "print(sumaComplejos(z1,z2))"
      ],
      "metadata": {
        "colab": {
          "base_uri": "https://localhost:8080/"
        },
        "id": "ep8zjTyHEEgJ",
        "outputId": "71e7c283-fe75-4687-faad-deab3c0b8622"
      },
      "execution_count": null,
      "outputs": [
        {
          "output_type": "stream",
          "name": "stdout",
          "text": [
            "(5, 5)\n"
          ]
        }
      ]
    },
    {
      "cell_type": "markdown",
      "source": [
        "## Suma de Vectores\n",
        "\n",
        "Note que al interpretar (a,b) como un vector\n",
        "la suma es igual que la de los complejos"
      ],
      "metadata": {
        "id": "1FQLIK4yCRTl"
      }
    },
    {
      "cell_type": "code",
      "source": [
        "suma = sumaComplejos(z1,z2)\n",
        "print(suma)"
      ],
      "metadata": {
        "id": "jNMe1CcoG5NI"
      },
      "execution_count": null,
      "outputs": []
    },
    {
      "cell_type": "markdown",
      "source": [
        "## Suma de vectores gráfica"
      ],
      "metadata": {
        "id": "3WkrwxleBJ28"
      }
    },
    {
      "cell_type": "code",
      "source": [
        "import matplotlib.pyplot as plt\n",
        "\n",
        "def sumaVectores(z1,z2):\n",
        "    return (z1[0]+z2[0],z1[1]+z2[1])\n",
        "\n",
        "z1 = (2,1)\n",
        "z2 = (3,4)\n",
        "suma = sumaComplejos(z1,z2)\n",
        "\n",
        "# Grafica la suma\n",
        "plt.quiver(0, 0, z1[0], z1[1], color='g', units='xy',scale=1)\n",
        "plt.quiver(z1[0], z1[1], z2[0], z2[1], color='b',\n",
        "           units='xy', scale=1)\n",
        "plt.quiver(0, 0, suma[0], suma[1], color='r',\n",
        "           units='xy',scale=1)\n",
        "plt.axis('scaled')\n",
        "plt.xlim(0, 6)\n",
        "plt.ylim(0, 6)\n",
        "plt.show()"
      ],
      "metadata": {
        "colab": {
          "base_uri": "https://localhost:8080/",
          "height": 435
        },
        "id": "mVRZ_YPqHDny",
        "outputId": "07542119-b5fe-45af-fead-4a14f3bbcc4f"
      },
      "execution_count": null,
      "outputs": [
        {
          "output_type": "display_data",
          "data": {
            "text/plain": [
              "<Figure size 640x480 with 1 Axes>"
            ],
            "image/png": "[encoded data removed]"
          },
          "metadata": {}
        }
      ]
    },
    {
      "cell_type": "markdown",
      "source": [
        "## Actividad:\n",
        "### Mostar que se cumple la propiedad conmutativa y asociativa con la operación suma de vectores"
      ],
      "metadata": {
        "id": "e3zS_nnpHLld"
      }
    },
    {
      "cell_type": "markdown",
      "source": [
        "## Suma de vectores de manera explícita\n",
        "\n",
        "---\n",
        "\n"
      ],
      "metadata": {
        "id": "-AYYydYiBeIs"
      }
    },
    {
      "cell_type": "code",
      "source": [
        "\"\"\"\n",
        "Función que suma dos vectores\n",
        "\n",
        "  Args:\n",
        "      vector1: Primer vector.\n",
        "      vector2: Segundo vector.\n",
        "\n",
        "  Returns:\n",
        "      La suma de los vectores.\n",
        "\"\"\"\n",
        "def vector_sum(vector1, vector2):\n",
        "  # Check if the vectors have the same length.\n",
        "  if len(vector1) != len(vector2):\n",
        "    raise ValueError(\"Vectors must have the same length.\")\n",
        "\n",
        "  # Create a new vector to store the result.\n",
        "  result = []\n",
        "\n",
        "  # Add the corresponding elements of the two vectors.\n",
        "  for i in range(len(vector1)):\n",
        "    result.append(vector1[i] + vector2[i])\n",
        "\n",
        "  # Return the resulting vector.\n",
        "  return result\n",
        "\n",
        "# Pruebas de la función vector_sum\n",
        "\n",
        "vector1 = [1, 2, 3]\n",
        "vector2 = [4, 5, 6]\n",
        "result = vector_sum(vector1, vector2)\n",
        "print(f'La suma de {vector1} + {vector2} es {result}')\n",
        "\n",
        "vector1 = [1, 2]\n",
        "vector2 = [4, 5]\n",
        "result = vector_sum(vector1, vector2)\n",
        "print(f'La suma de {vector1} + {vector2} es {result}')"
      ],
      "metadata": {
        "colab": {
          "base_uri": "https://localhost:8080/"
        },
        "id": "fV0MiX_bEPOo",
        "outputId": "688dbebb-03a6-4f55-9fee-b235f7d6b36f"
      },
      "execution_count": null,
      "outputs": [
        {
          "output_type": "stream",
          "name": "stdout",
          "text": [
            "La suma de [1, 2, 3] + [4, 5, 6] es [5, 7, 9]\n",
            "La suma de [1, 2] + [4, 5] es [5, 7]\n"
          ]
        }
      ]
    },
    {
      "cell_type": "markdown",
      "source": [
        "## Actividad:\n",
        "### Busca alguna par de funciones que se puedan aplicar a las tuplas y pon un ejemplo de como funcionan"
      ],
      "metadata": {
        "id": "f6kRzP7GEp8F"
      }
    },
    {
      "cell_type": "markdown",
      "source": [
        "## Diccionarios {:, :}\n"
      ],
      "metadata": {
        "id": "54DRKKV9WS-9"
      }
    },
    {
      "cell_type": "code",
      "source": [
        "calificaciones = {'Saul' : 8.3 , 'Greta' : 9.5 , 'Alex' : 7.8, 'Oscar' : 6.9, 'José' : 9.2}"
      ],
      "metadata": {
        "id": "XbgM9eKxJs2s"
      },
      "execution_count": null,
      "outputs": []
    },
    {
      "cell_type": "code",
      "source": [
        "print(calificaciones['Greta'])"
      ],
      "metadata": {
        "colab": {
          "base_uri": "https://localhost:8080/"
        },
        "id": "smw26tlGqRJH",
        "outputId": "54f8ee9c-7cec-4b64-b61a-61365d11770f"
      },
      "execution_count": null,
      "outputs": [
        {
          "output_type": "stream",
          "name": "stdout",
          "text": [
            "9.5\n"
          ]
        }
      ]
    },
    {
      "cell_type": "markdown",
      "source": [
        "### Actualizar un dato"
      ],
      "metadata": {
        "id": "qJ4Dt8oqB3tr"
      }
    },
    {
      "cell_type": "code",
      "source": [
        "calificaciones['Alex'] = 9\n",
        "print(calificaciones)"
      ],
      "metadata": {
        "colab": {
          "base_uri": "https://localhost:8080/"
        },
        "id": "9tRSnVJbBstq",
        "outputId": "cb448fbc-2ee6-4b72-b52d-9d52d780752a"
      },
      "execution_count": null,
      "outputs": [
        {
          "output_type": "stream",
          "name": "stdout",
          "text": [
            "{'Saul': 8.3, 'Greta': 9.5, 'Alex': 9, 'Oscar': 6.9, 'José': 9.2}\n"
          ]
        }
      ]
    },
    {
      "cell_type": "markdown",
      "source": [
        "### Agregar un elemento"
      ],
      "metadata": {
        "id": "LV_nWnwOB6xY"
      }
    },
    {
      "cell_type": "code",
      "source": [
        "calificaciones['Maria'] = 7.5\n",
        "print(calificaciones)"
      ],
      "metadata": {
        "colab": {
          "base_uri": "https://localhost:8080/"
        },
        "id": "6D8ddR7LCCQQ",
        "outputId": "2fc7dc81-103a-4163-f7c4-05f6f3dcf522"
      },
      "execution_count": null,
      "outputs": [
        {
          "output_type": "stream",
          "name": "stdout",
          "text": [
            "{'Saul': 8.3, 'Greta': 9.5, 'Alex': 10, 'Oscar': 6.9, 'José': 9.2, 'Maria': 7.5}\n"
          ]
        }
      ]
    },
    {
      "cell_type": "code",
      "source": [
        "calificaciones.update({'Raul': 8.5})\n",
        "print(calificaciones)"
      ],
      "metadata": {
        "colab": {
          "base_uri": "https://localhost:8080/"
        },
        "id": "f0NVjheeCIEJ",
        "outputId": "d77518f4-dc32-4251-8746-35258b3a0386"
      },
      "execution_count": null,
      "outputs": [
        {
          "output_type": "stream",
          "name": "stdout",
          "text": [
            "{'Saul': 8.3, 'Greta': 9.5, 'Alex': 10, 'Oscar': 6.9, 'José': 9.2, 'Maria': 7.5, 'Raul': 8.5}\n"
          ]
        }
      ]
    },
    {
      "cell_type": "markdown",
      "source": [
        "## Recorrido de un Diccionario con for"
      ],
      "metadata": {
        "id": "bnySCbzcC8gh"
      }
    },
    {
      "cell_type": "code",
      "source": [
        "ssDiametro = {'Sun': 1392000,'Mercury' : 4879, 'Venus' : 12092, 'Earth' : 12756, 'Mars' : 6792,\n",
        "                    'Jupiter' : 142984 ,'Saturn': 120536, 'Uranus': 50724, 'Neptuno':49244,\n",
        "                    'Pluto': 2376.6}\n",
        "for x in ssDiametro:\n",
        "  print(f'The {x} have a diameter of {ssDiametro[x]}.')\n",
        "print ()\n",
        "for x in sorted(ssDiametro):\n",
        "  print(f'The {x} have a diameter of {ssDiametro[x]}.')"
      ],
      "metadata": {
        "colab": {
          "base_uri": "https://localhost:8080/"
        },
        "id": "cYDlmtqh3eJB",
        "outputId": "70050c49-9bfa-44fb-e6ee-e7d4725aa2ad"
      },
      "execution_count": null,
      "outputs": [
        {
          "output_type": "stream",
          "name": "stdout",
          "text": [
            "The Sun have a diameter of 1392000.\n",
            "The Mercury have a diameter of 4879.\n",
            "The Venus have a diameter of 12092.\n",
            "The Earth have a diameter of 12756.\n",
            "The Mars have a diameter of 6792.\n",
            "The Jupiter have a diameter of 142984.\n",
            "The Saturn have a diameter of 120536.\n",
            "The Uranus have a diameter of 50724.\n",
            "The Neptuno have a diameter of 49244.\n",
            "The Pluto have a diameter of 2376.6.\n",
            "\n",
            "The Earth have a diameter of 12756.\n",
            "The Jupiter have a diameter of 142984.\n",
            "The Mars have a diameter of 6792.\n",
            "The Mercury have a diameter of 4879.\n",
            "The Neptuno have a diameter of 49244.\n",
            "The Pluto have a diameter of 2376.6.\n",
            "The Saturn have a diameter of 120536.\n",
            "The Sun have a diameter of 1392000.\n",
            "The Uranus have a diameter of 50724.\n",
            "The Venus have a diameter of 12092.\n"
          ]
        }
      ]
    },
    {
      "cell_type": "markdown",
      "source": [
        "## Actividad:\n",
        "### Qué planeta tiene un diametro de aproximadamente 38% el de la tierra.\n",
        "\n",
        "En la parte de abajo esta la solución, tu debes implementar el código completo partiendo de que no lo sabes."
      ],
      "metadata": {
        "id": "CI_bcYMp5ZY0"
      }
    },
    {
      "cell_type": "code",
      "source": [
        "r = ssDiametro['Mercury']/ssDiametro['Earth']\n",
        "print(r)"
      ],
      "metadata": {
        "colab": {
          "base_uri": "https://localhost:8080/"
        },
        "id": "pra4JHHgqVXo",
        "outputId": "eb49492e-d51f-4078-f2a0-40f896f6898f"
      },
      "execution_count": null,
      "outputs": [
        {
          "output_type": "stream",
          "name": "stdout",
          "text": [
            "0.38248667293822514\n"
          ]
        }
      ]
    },
    {
      "cell_type": "markdown",
      "source": [],
      "metadata": {
        "id": "toH3XTleEHnE"
      }
    }
  ]
}