{
  "nbformat": 4,
  "nbformat_minor": 0,
  "metadata": {
    "colab": {
      "provenance": []
    },
    "kernelspec": {
      "name": "python3",
      "display_name": "Python 3"
    },
    "language_info": {
      "name": "python"
    }
  },
  "cells": [
    {
      "cell_type": "markdown",
      "source": [
        "Ejercico de Conjutos para Matemáticas IV"
      ],
      "metadata": {
        "id": "iXnj6x1cC7mH"
      }
    },
    {
      "cell_type": "markdown",
      "source": [
        "Uso de range"
      ],
      "metadata": {
        "id": "cN1MV4nm4ZGL"
      }
    },
    {
      "cell_type": "code",
      "source": [
        "for x in range(5):\n",
        "    print(x)"
      ],
      "metadata": {
        "colab": {
          "base_uri": "https://localhost:8080/"
        },
        "id": "VcFvD88ljvIO",
        "outputId": "5408668e-336e-4ea8-9365-5cfef40ff6d9"
      },
      "execution_count": null,
      "outputs": [
        {
          "output_type": "stream",
          "name": "stdout",
          "text": [
            "0\n",
            "1\n",
            "2\n",
            "3\n",
            "4\n"
          ]
        }
      ]
    },
    {
      "cell_type": "markdown",
      "source": [
        "[3,5)   x natural"
      ],
      "metadata": {
        "id": "CHPv-_HpkYvq"
      }
    },
    {
      "cell_type": "code",
      "source": [
        "for x in range(3,5):\n",
        "    print(x)"
      ],
      "metadata": {
        "colab": {
          "base_uri": "https://localhost:8080/"
        },
        "id": "YPJCUuWrkJq6",
        "outputId": "89326049-e0a8-4790-8d77-5c932ca1f2a7"
      },
      "execution_count": null,
      "outputs": [
        {
          "output_type": "stream",
          "name": "stdout",
          "text": [
            "3\n",
            "4\n"
          ]
        }
      ]
    },
    {
      "cell_type": "markdown",
      "source": [
        "Conjunto universal naturales del 1 al 20"
      ],
      "metadata": {
        "id": "Y9UWlEo_I9Sn"
      }
    },
    {
      "cell_type": "code",
      "execution_count": null,
      "metadata": {
        "colab": {
          "base_uri": "https://localhost:8080/"
        },
        "id": "6lB3Z7j8Cczr",
        "outputId": "8dbeeda4-5458-43b0-c5df-0b6b3c62fc6c"
      },
      "outputs": [
        {
          "output_type": "stream",
          "name": "stdout",
          "text": [
            "{1, 2, 3, 4, 5, 6, 7, 8, 9, 10, 11, 12, 13, 14, 15, 16, 17, 18, 19, 20}\n",
            "{1, 2, 3, 4, 5, 6, 7, 8, 9, 10, 11, 12, 13, 14, 15, 16, 17, 18, 19, 20}\n"
          ]
        }
      ],
      "source": [
        "U = {1,2,3,4,5,6,7,8,9,10,11,12,13,14,15,16,17,18,19,20}\n",
        "Uf = {x for x in range(1,21)}\n",
        "conjuntovacio = set()\n",
        "print(U)\n",
        "print(Uf)"
      ]
    },
    {
      "cell_type": "markdown",
      "source": [
        "Conjunto A de numeros x tal que x par ; x < 10"
      ],
      "metadata": {
        "id": "Nl2ARCp3HpNY"
      }
    },
    {
      "cell_type": "code",
      "source": [
        "A = {x for x in Uf if x%2 == 0 and x < 10}\n",
        "print(A)"
      ],
      "metadata": {
        "colab": {
          "base_uri": "https://localhost:8080/"
        },
        "id": "p8UxIFjqDBB_",
        "outputId": "9179d293-eac2-4942-9832-2a8ab2ca3c29"
      },
      "execution_count": null,
      "outputs": [
        {
          "output_type": "stream",
          "name": "stdout",
          "text": [
            "{8, 2, 4, 6}\n"
          ]
        }
      ]
    },
    {
      "cell_type": "markdown",
      "source": [
        "Actividad obten los número impares"
      ],
      "metadata": {
        "id": "P-Jh0iH_liZC"
      }
    },
    {
      "cell_type": "markdown",
      "source": [
        "Conjunto E de números x tal que x tiene un solo dígito"
      ],
      "metadata": {
        "id": "ZthkEvCjJREK"
      }
    },
    {
      "cell_type": "code",
      "source": [
        "E = {x for x in Uf if x < 10}\n",
        "print(E)"
      ],
      "metadata": {
        "id": "Wu2i7to1Dnvr",
        "colab": {
          "base_uri": "https://localhost:8080/"
        },
        "outputId": "748ad04d-0762-4f33-f16e-aeca683d4270"
      },
      "execution_count": null,
      "outputs": [
        {
          "output_type": "stream",
          "name": "stdout",
          "text": [
            "{1, 2, 3, 4, 5, 6, 7, 8, 9}\n"
          ]
        }
      ]
    },
    {
      "cell_type": "markdown",
      "source": [
        "Conjunto G de números x tal que 2 < x <= 6"
      ],
      "metadata": {
        "id": "ai8PZnuoJ8N6"
      }
    },
    {
      "cell_type": "code",
      "source": [
        "G = {x for x in Uf if  2<x and x<=6}\n",
        "print(G)"
      ],
      "metadata": {
        "colab": {
          "base_uri": "https://localhost:8080/"
        },
        "id": "g-n4LaDsJ2zh",
        "outputId": "37f27fbd-bb53-4379-e1d5-23d3ec281422"
      },
      "execution_count": null,
      "outputs": [
        {
          "output_type": "stream",
          "name": "stdout",
          "text": [
            "{3, 4, 5, 6}\n"
          ]
        }
      ]
    },
    {
      "cell_type": "markdown",
      "source": [
        "Obten\n",
        "\\begin{equation}\n",
        "(E^c)^c ∩ (A - G)^c\n",
        "\\end{equation}"
      ],
      "metadata": {
        "id": "a1yDz1AmJmog"
      }
    },
    {
      "cell_type": "code",
      "source": [
        "Ec = Uf - E\n",
        "Ecc = Uf - Ec\n",
        "AminG = A - G\n",
        "AminGc = Uf - AminG\n",
        "resultado = AminGc and Ecc\n",
        "print(Ecc)\n",
        "print(AminG)\n",
        "print(AminGc)\n",
        "print(resultado)"
      ],
      "metadata": {
        "colab": {
          "base_uri": "https://localhost:8080/"
        },
        "id": "o94Y_JmgKr54",
        "outputId": "63363ae2-bba9-4d5d-994e-ee1dd7c82c31"
      },
      "execution_count": null,
      "outputs": [
        {
          "output_type": "stream",
          "name": "stdout",
          "text": [
            "{1, 2, 3, 4, 5, 6, 7, 8, 9}\n",
            "{8, 2}\n",
            "{1, 3, 4, 5, 6, 7, 9, 10, 11, 12, 13, 14, 15, 16, 17, 18, 19, 20}\n",
            "{1, 3, 4, 5, 6, 7, 9}\n"
          ]
        }
      ]
    }
  ]
}