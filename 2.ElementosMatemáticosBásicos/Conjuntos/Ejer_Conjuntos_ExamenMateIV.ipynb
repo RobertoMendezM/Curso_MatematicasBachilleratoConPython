{
  "nbformat": 4,
  "nbformat_minor": 0,
  "metadata": {
    "colab": {
      "provenance": []
    },
    "kernelspec": {
      "name": "python3",
      "display_name": "Python 3"
    },
    "language_info": {
      "name": "python"
    }
  },
  "cells": [
    {
      "cell_type": "markdown",
      "source": [
        "# Problema Examen de Matemáticas IV\n",
        "# Concurso Interpreparatoriano 2010  ENP 2\n",
        "\n",
        "Tema: Conuntos\n",
        "### Obten\n",
        "\\begin{equation}\n",
        "(E^c)^c ∩ (A - G)^c\n",
        "\\end{equation}\n",
        "\n",
        "\n",
        "---\n",
        "editor: Roberto Méndez Méndez\n",
        "\n",
        "modificado: 21 Jun 24"
      ],
      "metadata": {
        "id": "iXnj6x1cC7mH"
      }
    },
    {
      "cell_type": "markdown",
      "source": [
        "### Uso de range"
      ],
      "metadata": {
        "id": "cN1MV4nm4ZGL"
      }
    },
    {
      "cell_type": "code",
      "source": [
        "for x in range(5):\n",
        "    print(x)"
      ],
      "metadata": {
        "colab": {
          "base_uri": "https://localhost:8080/"
        },
        "id": "VcFvD88ljvIO",
        "outputId": "8bb81809-5cfc-49c7-f845-c6060eabfdb8"
      },
      "execution_count": 1,
      "outputs": [
        {
          "output_type": "stream",
          "name": "stdout",
          "text": [
            "0\n",
            "1\n",
            "2\n",
            "3\n",
            "4\n"
          ]
        }
      ]
    },
    {
      "cell_type": "markdown",
      "source": [
        "[3,5)   x natural"
      ],
      "metadata": {
        "id": "CHPv-_HpkYvq"
      }
    },
    {
      "cell_type": "code",
      "source": [
        "for x in range(3,5):\n",
        "    print(x)"
      ],
      "metadata": {
        "colab": {
          "base_uri": "https://localhost:8080/"
        },
        "id": "YPJCUuWrkJq6",
        "outputId": "e775c872-b090-4192-e2dc-f7a632a385ad"
      },
      "execution_count": 2,
      "outputs": [
        {
          "output_type": "stream",
          "name": "stdout",
          "text": [
            "3\n",
            "4\n"
          ]
        }
      ]
    },
    {
      "cell_type": "markdown",
      "source": [
        "### Conjunto universal naturales del 1 al 20"
      ],
      "metadata": {
        "id": "Y9UWlEo_I9Sn"
      }
    },
    {
      "cell_type": "code",
      "execution_count": 3,
      "metadata": {
        "colab": {
          "base_uri": "https://localhost:8080/"
        },
        "id": "6lB3Z7j8Cczr",
        "outputId": "fd00b683-09c5-4f7c-b4ae-fb55c1f192ce"
      },
      "outputs": [
        {
          "output_type": "stream",
          "name": "stdout",
          "text": [
            "{1, 2, 3, 4, 5, 6, 7, 8, 9, 10, 11, 12, 13, 14, 15, 16, 17, 18, 19, 20}\n",
            "{1, 2, 3, 4, 5, 6, 7, 8, 9, 10, 11, 12, 13, 14, 15, 16, 17, 18, 19, 20}\n"
          ]
        }
      ],
      "source": [
        "U = {1,2,3,4,5,6,7,8,9,10,11,12,13,14,15,16,17,18,19,20}\n",
        "Uf = {x for x in range(1,21)}\n",
        "conjuntovacio = set()\n",
        "print(U)\n",
        "print(Uf)"
      ]
    },
    {
      "cell_type": "markdown",
      "source": [
        "\n",
        "## Conjunto A de numeros x tal que x par ; x < 10"
      ],
      "metadata": {
        "id": "Nl2ARCp3HpNY"
      }
    },
    {
      "cell_type": "code",
      "source": [
        "A = {x for x in Uf if x%2 == 0 and x < 10}\n",
        "print(A)"
      ],
      "metadata": {
        "colab": {
          "base_uri": "https://localhost:8080/"
        },
        "id": "p8UxIFjqDBB_",
        "outputId": "b3cdf62c-6344-4f52-8d33-0435eb76ec3b"
      },
      "execution_count": 4,
      "outputs": [
        {
          "output_type": "stream",
          "name": "stdout",
          "text": [
            "{8, 2, 4, 6}\n"
          ]
        }
      ]
    },
    {
      "cell_type": "markdown",
      "source": [
        "## Actividad obten los número impares"
      ],
      "metadata": {
        "id": "P-Jh0iH_liZC"
      }
    },
    {
      "cell_type": "markdown",
      "source": [
        "### Conjunto E de números x tal que x tiene un solo dígito\n"
      ],
      "metadata": {
        "id": "ZthkEvCjJREK"
      }
    },
    {
      "cell_type": "code",
      "source": [
        "E = {x for x in Uf if x < 10}\n",
        "print(E)"
      ],
      "metadata": {
        "id": "Wu2i7to1Dnvr",
        "colab": {
          "base_uri": "https://localhost:8080/"
        },
        "outputId": "66a83f23-29df-4716-c5af-4b7abe4843e7"
      },
      "execution_count": 5,
      "outputs": [
        {
          "output_type": "stream",
          "name": "stdout",
          "text": [
            "{1, 2, 3, 4, 5, 6, 7, 8, 9}\n"
          ]
        }
      ]
    },
    {
      "cell_type": "markdown",
      "source": [
        "Conjunto G de números x tal que 2 < x <= 6"
      ],
      "metadata": {
        "id": "ai8PZnuoJ8N6"
      }
    },
    {
      "cell_type": "code",
      "source": [
        "G = {x for x in Uf if  2<x and x<=6}\n",
        "print(G)"
      ],
      "metadata": {
        "colab": {
          "base_uri": "https://localhost:8080/"
        },
        "id": "g-n4LaDsJ2zh",
        "outputId": "fe0e7867-1056-4721-b68f-d1f1e9299aa2"
      },
      "execution_count": 6,
      "outputs": [
        {
          "output_type": "stream",
          "name": "stdout",
          "text": [
            "{3, 4, 5, 6}\n"
          ]
        }
      ]
    },
    {
      "cell_type": "markdown",
      "source": [
        "## Obten\n",
        "\\begin{equation}\n",
        "(E^c)^c ∩ (A - G)^c\n",
        "\\end{equation}"
      ],
      "metadata": {
        "id": "a1yDz1AmJmog"
      }
    },
    {
      "cell_type": "code",
      "source": [
        "Ec = Uf - E\n",
        "Ecc = Uf - Ec\n",
        "AminG = A - G\n",
        "AminGc = Uf - AminG\n",
        "resultado = AminGc and Ecc\n",
        "print(Ecc)\n",
        "print(AminG)\n",
        "print(AminGc)\n",
        "print(resultado)"
      ],
      "metadata": {
        "colab": {
          "base_uri": "https://localhost:8080/"
        },
        "id": "o94Y_JmgKr54",
        "outputId": "cb95c2e7-708e-463e-cd35-e6b0999cc599"
      },
      "execution_count": 7,
      "outputs": [
        {
          "output_type": "stream",
          "name": "stdout",
          "text": [
            "{1, 2, 3, 4, 5, 6, 7, 8, 9}\n",
            "{8, 2}\n",
            "{1, 3, 4, 5, 6, 7, 9, 10, 11, 12, 13, 14, 15, 16, 17, 18, 19, 20}\n",
            "{1, 2, 3, 4, 5, 6, 7, 8, 9}\n"
          ]
        }
      ]
    }
  ]
}