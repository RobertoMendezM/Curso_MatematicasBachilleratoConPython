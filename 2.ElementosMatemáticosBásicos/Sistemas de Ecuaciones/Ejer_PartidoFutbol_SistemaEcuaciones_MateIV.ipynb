{
  "nbformat": 4,
  "nbformat_minor": 0,
  "metadata": {
    "colab": {
      "provenance": []
    },
    "kernelspec": {
      "name": "python3",
      "display_name": "Python 3"
    },
    "language_info": {
      "name": "python"
    }
  },
  "cells": [
    {
      "cell_type": "markdown",
      "source": [
        "# Problema XXXII CONCURSO INTERPREPARATORIANO 2020\n",
        "        \n",
        "Situación 2. Partido de futbol\n",
        "\n",
        "El estadio universitario tiene la capacidad para 72,000 espectadores, se encuentra lleno durante la celebración de un partido entre los equipos Pumas de la UNAM y el Club América. Unos espectadores son socios de UNAM, otros lo son del América, y el resto no son socios de ninguno de dos equipos que están en el encuentro. A través de la taquilla sabemos lo siguiente:\n",
        "* No hay espectadores que sean socios de ambos equipos simultáneamente.\n",
        "* Por cada 13 socios de alguno de los dos equipos hay 3 espectadores que no son socios.\n",
        "* Los socios de los Pumas UNAM superan en 8500 a los socios del Club América\n",
        "\n",
        "---\n",
        "editor: Roberto Méndez Méndez\n",
        "\n",
        "fecha: 21 Jun 24"
      ],
      "metadata": {
        "id": "-qtO7QTFeQzx"
      }
    },
    {
      "cell_type": "code",
      "execution_count": null,
      "metadata": {
        "id": "ahCNkuXXeH_U"
      },
      "outputs": [],
      "source": [
        "import numpy as np\n",
        "a = [[16/13, 16/ 13], [1, -1]]\n",
        "b = [72000, 8500]\n",
        "x = np.linalg.solve(a, b)\n",
        "print(\"La solución del sistema es: \", x)"
      ]
    },
    {
      "cell_type": "code",
      "source": [
        "import numpy as np\n",
        "a = [[1, 1, 1], [1, -1, 0], [3, 3, -13]]\n",
        "b = [72000, 8500, 0]\n",
        "x = np.linalg.solve(a, b)\n",
        "print(\"La solución del sistema es: \", x)"
      ],
      "metadata": {
        "id": "aXl6M39JeOuV"
      },
      "execution_count": null,
      "outputs": []
    },
    {
      "cell_type": "markdown",
      "source": [
        "Respuesta con sympy y uso de diccionarios"
      ],
      "metadata": {
        "id": "f5SYZE5z6yWk"
      }
    },
    {
      "cell_type": "code",
      "source": [
        "from sympy import linsolve, symbols\n",
        "\n",
        "p, a, o = symbols('p a o')\n",
        "aficionado = {p : 'pumas', a: 'américa', o : 'otro equipo'}\n",
        "\n",
        "var =[p, a, o]\n",
        "sol = linsolve([p + a + o - 72000, p - a + 0*o - 8500, 3*p + 3*a - 13*o + 0],\n",
        "         var)\n",
        "\n",
        "#print(type(sol))\n",
        "\n",
        "i=0\n",
        "for v in sol:\n",
        "    for y in v:\n",
        "        print(f'Los aficionados de {aficionado[var[i]]} son {y}')\n",
        "        i+=1"
      ],
      "metadata": {
        "colab": {
          "base_uri": "https://localhost:8080/"
        },
        "id": "q1d-zzB364p8",
        "outputId": "8d1d3afd-590d-40b7-c3e7-195cbc0ce283"
      },
      "execution_count": 1,
      "outputs": [
        {
          "output_type": "stream",
          "name": "stdout",
          "text": [
            "Los aficionados de pumas son 33500\n",
            "Los aficionados de américa son 25000\n",
            "Los aficionados de otro equipo son 13500\n"
          ]
        }
      ]
    }
  ]
}