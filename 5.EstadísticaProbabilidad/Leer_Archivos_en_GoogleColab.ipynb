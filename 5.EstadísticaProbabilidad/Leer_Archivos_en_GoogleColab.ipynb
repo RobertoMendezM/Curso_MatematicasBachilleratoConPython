{
  "nbformat": 4,
  "nbformat_minor": 0,
  "metadata": {
    "colab": {
      "provenance": []
    },
    "kernelspec": {
      "name": "python3",
      "display_name": "Python 3"
    },
    "language_info": {
      "name": "python"
    }
  },
  "cells": [
    {
      "cell_type": "markdown",
      "source": [
        "# Leer archivos en Google Colab con pandas y numpy extrabásico. Obtener la mediana\n",
        "\n",
        "Referencias:\n",
        "https://stackoverflow.com/questions/48340341/how-to-read-csv-to-dataframe-in-google-colab\n",
        "\n",
        "---\n",
        "autor: Roberto Méndez Méndez\n",
        "\n",
        "Editado: 1 Jul 24"
      ],
      "metadata": {
        "id": "ohrCA-ebPEka"
      }
    },
    {
      "cell_type": "markdown",
      "source": [
        "Para poder leer tu archivo utiliza el siguiente código, debes dar el ID de tu archivo. Este ID lo extraés de la dirección URL que obtienes, cuando indicas que quieres compartir el archivo. En este ejemplo\n",
        "* En nombre del archivo es: datos1.txt\n",
        "* En mi caso su URL para compartirlo es:\n",
        "\n",
        "https://drive.google.com/file/d/1CE8N1aV8UTBS-XyR7cQ971o8PvqeGDcL/view?usp=sharing\n",
        "\n",
        "así el id es: 1CE8N1aV8UTBS-XyR7cQ971o8PvqeGDcL\n",
        "\n",
        "Al ejecutar el código te pedirá permisos de lectura. Otorga los permiso pertinentes, en particular indica que si puede leer archivos en el menu de opciones que te saldrá si el la primera vez que lo haces."
      ],
      "metadata": {
        "id": "7Xfv8tThpaFP"
      }
    },
    {
      "cell_type": "code",
      "source": [
        "from google.colab import auth\n",
        "from pydrive.drive import GoogleDrive\n",
        "from pydrive.auth import GoogleAuth\n",
        "from oauth2client.client import GoogleCredentials\n",
        "\n",
        "auth.authenticate_user()\n",
        "gauth = GoogleAuth()\n",
        "gauth.credentials = GoogleCredentials.get_application_default()\n",
        "drive = GoogleDrive(gauth)\n",
        "\n",
        "myfile = drive.CreateFile({'id': '1CE8N1aV8UTBS-XyR7cQ971o8PvqeGDcL'})\n",
        "myfile.GetContentFile('datos1.txt')"
      ],
      "metadata": {
        "id": "oOXk_7JGM8Cd"
      },
      "execution_count": 5,
      "outputs": []
    },
    {
      "cell_type": "markdown",
      "source": [
        "Ejemplo de lecturas con Pandas\n",
        "(debe ejecutar el código anterior)"
      ],
      "metadata": {
        "id": "953E5c2qqUxe"
      }
    },
    {
      "cell_type": "code",
      "source": [
        "import pandas as pd\n",
        "frm = pd.read_csv('datos1.txt', header=None)\n",
        "print(\"\\n Las primeros cinco renglones son \\n \",frm.head())\n",
        "print(\"\\n Las últimos cinco renglones son \\n \",frm.tail())\n",
        "print(\"\\n Que encabezados de columna tengo: \\n\",frm.columns)\n",
        "print(\"\\n Datos estadísticosa básicos:\\n\\n\", frm[0].describe())"
      ],
      "metadata": {
        "id": "jS4cVtEyOZY4",
        "colab": {
          "base_uri": "https://localhost:8080/"
        },
        "outputId": "c1c29a90-97e4-4dc5-b724-32b08e41ebc9"
      },
      "execution_count": 15,
      "outputs": [
        {
          "output_type": "stream",
          "name": "stdout",
          "text": [
            "\n",
            " Las primeros cinco renglones son \n",
            "      0    1     2\n",
            "0   1  1.3   0.6\n",
            "1   2  2.1   0.7\n",
            "2   3  4.8   0.8\n",
            "3   4  3.3   0.9\n",
            "4  34  5.6  23.0\n",
            "\n",
            " Las últimos cinco renglones son \n",
            "      0     1     2\n",
            "4  34   5.6  23.0\n",
            "5  34  45.0  67.0\n",
            "6   2   4.0   6.0\n",
            "7  12  98.0  90.0\n",
            "8  12  34.0  56.0\n",
            "\n",
            " Que encabezados de columna tengo: \n",
            " Index([0, 1, 2], dtype='int64')\n",
            "\n",
            " Datos estadísticosa básicos:\n",
            "\n",
            " count     9.000000\n",
            "mean     11.555556\n",
            "std      13.380126\n",
            "min       1.000000\n",
            "25%       2.000000\n",
            "50%       4.000000\n",
            "75%      12.000000\n",
            "max      34.000000\n",
            "Name: 0, dtype: float64\n"
          ]
        }
      ]
    },
    {
      "cell_type": "markdown",
      "source": [
        "### Leer el archivo con numpy y obtener los datos de una columna en una matriz con numpy\n",
        "\n",
        "Se espera que el archivo solo tenga datos numéricos\n"
      ],
      "metadata": {
        "id": "K80xKq8j0bg6"
      }
    },
    {
      "cell_type": "code",
      "source": [
        "import numpy as np\n",
        "\n",
        "datosF = np.loadtxt('datos1.txt', delimiter=\",\")\n",
        "print(\"Los datos dfel archivo son son: \\n\", datosF)\n",
        "\n",
        "print(\"Loas datos en la segunda columna son: \",  datosF[:,1])"
      ],
      "metadata": {
        "id": "oRcyRNCg0fyH"
      },
      "execution_count": null,
      "outputs": []
    },
    {
      "cell_type": "markdown",
      "source": [
        "### Leer el archivo con  Numpy y sacar la mediana de los datos de una columna\n",
        "\n",
        "Se espera que el archivo solo tenga datos numéricos\n",
        "\n"
      ],
      "metadata": {
        "id": "eyNhK9Nuzuy8"
      }
    },
    {
      "cell_type": "code",
      "source": [
        "import numpy as np\n",
        "\n",
        "datosF = np.loadtxt('datos1.txt', delimiter=\",\")\n",
        "print(\"Los datos de archivos  son: \\n\", datosF)\n",
        "\n",
        "# Obtener la Mediana\n",
        "c1 = datosF[:,0]\n",
        "print(\"Los datos de la primera columna son: \", c1)\n",
        "c1.sort()\n",
        "print(\"Los datos ordenados de la primera columna son: \", c1)\n",
        "pos = len(c1) //2\n",
        "\n",
        "if len(datosF) % 2 == 0:\n",
        "    mediana = (c1[pos-1] + c1[pos]) / 2\n",
        "else:\n",
        "    mediana = c1[pos]\n",
        "\n",
        "print(\"La mediana es: \", mediana)\n",
        "\n"
      ],
      "metadata": {
        "colab": {
          "base_uri": "https://localhost:8080/"
        },
        "id": "qk6At8J3zwOG",
        "outputId": "8f273761-5870-40ce-c929-3c0a2149c0be"
      },
      "execution_count": 9,
      "outputs": [
        {
          "output_type": "stream",
          "name": "stdout",
          "text": [
            "Los datos de archivos  son: \n",
            " [[ 1.   1.3  0.6]\n",
            " [ 2.   2.1  0.7]\n",
            " [ 3.   4.8  0.8]\n",
            " [ 4.   3.3  0.9]\n",
            " [34.   5.6 23. ]\n",
            " [34.  45.  67. ]\n",
            " [ 2.   4.   6. ]\n",
            " [12.  98.  90. ]\n",
            " [12.  34.  56. ]]\n",
            "Los datos de la primera columna son:  [ 1.  2.  3.  4. 34. 34.  2. 12. 12.]\n",
            "Los datos ordenados de la primera columna son:  [ 1.  2.  2.  3.  4. 12. 12. 34. 34.]\n",
            "La mediana es:  4.0\n"
          ]
        }
      ]
    }
  ]
}