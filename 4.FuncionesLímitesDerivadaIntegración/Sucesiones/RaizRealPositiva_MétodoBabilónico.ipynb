{
  "nbformat": 4,
  "nbformat_minor": 0,
  "metadata": {
    "colab": {
      "provenance": []
    },
    "kernelspec": {
      "name": "python3",
      "display_name": "Python 3"
    },
    "language_info": {
      "name": "python"
    }
  },
  "cells": [
    {
      "cell_type": "markdown",
      "source": [
        "\n",
        "# Cálculo de Raíces Reales postivas con el método babilónico\n",
        "\n",
        "\\begin{equation}\n",
        "\tx_{n + 1} = \\frac{1}{2}\\left( x_n + \\frac{n}{x_n}\\right)\n",
        "\\end{equation}\n",
        "\n",
        "n es el número de cual quieres la raíz\n",
        "\n",
        "x1 es una aproximación a $\\sqrt{n}$\n",
        "\n",
        "---\n",
        "@author: Roberto Méndez\n",
        "\n",
        "Editado: Jun 24 24"
      ],
      "metadata": {
        "id": "N62JS1PpCBgH"
      }
    },
    {
      "cell_type": "code",
      "source": [
        "import math\n",
        "\n",
        "n = float(input(\"Dame el valor del cual quieres la raíz: \"))\n",
        "aprox = float(input(\"Da una aproximación: \"))\n",
        "\n",
        "sucRaiz= []\n",
        "\n",
        "for i in range(6):\n",
        "    aprox = (1/2)*(aprox +  n/aprox)\n",
        "    sucRaiz.append(aprox)\n",
        "\n",
        "print(\"La raíz aproximada de  {0} es {1:.20} \".format(n,aprox))\n",
        "print(\"La raíz con math de {0} es {1:.20}\".format(n,math.sqrt(n)))\n",
        "print(\"La suceción es: \", sucRaiz)"
      ],
      "metadata": {
        "id": "d-uxqUHlureg"
      },
      "execution_count": null,
      "outputs": []
    },
    {
      "cell_type": "markdown",
      "source": [
        "## Actividad\n",
        "Ver con cuantas iteraciones y con cuantas cifras  se aproxima correctamente para:\n",
        "\n",
        "*   raíz de 11 con aproximación 3\n",
        "*   raíz de 2 con aproximación 1\n",
        "*   raíz de 231\n",
        "\n",
        "poniendo el parámetro de formato del número a 49 cifras decimales."
      ],
      "metadata": {
        "id": "QpKx7cT_u9Hi"
      }
    }
  ]
}