{
  "nbformat": 4,
  "nbformat_minor": 0,
  "metadata": {
    "colab": {
      "provenance": []
    },
    "kernelspec": {
      "name": "python3",
      "display_name": "Python 3"
    },
    "language_info": {
      "name": "python"
    }
  },
  "cells": [
    {
      "cell_type": "markdown",
      "source": [
        "# Sucesión que converge al número *e*\n",
        "\\begin{equation}\n",
        "  e = \\lim_{n → ∞} \\left(1 + \\frac{1}{n}\\right)^n\n",
        "\\end{equation}\n",
        "\n",
        "---\n",
        "autor: Roberto Méndez Méndez\n",
        "\n",
        "Editado: 27 Jun 24"
      ],
      "metadata": {
        "id": "yyGXjcXyTfYJ"
      }
    },
    {
      "cell_type": "code",
      "source": [
        "import numpy as np\n",
        "\n",
        "e=[]\n",
        "for n in range(1, 10):\n",
        "    aprox = (1 + 1/n)**n\n",
        "    e.append(aprox)\n",
        "    print(f'{n:>7}{aprox:>18.15f}')\n",
        "\n",
        "print(\"El valor de e con numpy es \", np.e)"
      ],
      "metadata": {
        "colab": {
          "base_uri": "https://localhost:8080/"
        },
        "id": "p8Pd5ZJfUINk",
        "outputId": "b302c269-e1bd-4dd0-f8f4-bacf73fa6394"
      },
      "execution_count": null,
      "outputs": [
        {
          "output_type": "stream",
          "name": "stdout",
          "text": [
            "      1 2.000000000000000\n",
            "      2 2.250000000000000\n",
            "      3 2.370370370370370\n",
            "      4 2.441406250000000\n",
            "      5 2.488319999999999\n",
            "      6 2.521626371742113\n",
            "      7 2.546499697040712\n",
            "      8 2.565784513950348\n",
            "      9 2.581174791713198\n",
            "El valor de e con numpy es  2.718281828459045\n"
          ]
        }
      ]
    },
    {
      "cell_type": "code",
      "source": [
        "import numpy as np\n",
        "print(\"El valor de e con numpy es \", np.e)"
      ],
      "metadata": {
        "colab": {
          "base_uri": "https://localhost:8080/"
        },
        "id": "VRKuW9eCYAgQ",
        "outputId": "75702a1d-9f8a-4129-b8b1-c859cd9f294e"
      },
      "execution_count": null,
      "outputs": [
        {
          "output_type": "stream",
          "name": "stdout",
          "text": [
            "El valor de e con numpy es  2.718281828459045\n"
          ]
        }
      ]
    }
  ]
}